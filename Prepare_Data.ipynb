{
 "cells": [
  {
   "cell_type": "code",
   "execution_count": 1,
   "id": "cbbc51de-7643-4e76-80d6-608321d93abd",
   "metadata": {},
   "outputs": [],
   "source": [
    "import pandas as pd\n",
    "import numpy as np\n",
    "import matplotlib.pyplot as plt"
   ]
  },
  {
   "cell_type": "code",
   "execution_count": 2,
   "id": "cad7b1b3-2adf-4ff7-805b-1a869c86fb23",
   "metadata": {},
   "outputs": [
    {
     "data": {
      "text/plain": [
       "(1499, 32)"
      ]
     },
     "execution_count": 2,
     "metadata": {},
     "output_type": "execute_result"
    }
   ],
   "source": [
    "df = pd.read_csv('original.csv')\n",
    "df.shape"
   ]
  },
  {
   "cell_type": "code",
   "execution_count": 3,
   "id": "b0e3e846-1aac-4f9e-af07-092fc498758a",
   "metadata": {},
   "outputs": [
    {
     "data": {
      "text/html": [
       "<div>\n",
       "<style scoped>\n",
       "    .dataframe tbody tr th:only-of-type {\n",
       "        vertical-align: middle;\n",
       "    }\n",
       "\n",
       "    .dataframe tbody tr th {\n",
       "        vertical-align: top;\n",
       "    }\n",
       "\n",
       "    .dataframe thead th {\n",
       "        text-align: right;\n",
       "    }\n",
       "</style>\n",
       "<table border=\"1\" class=\"dataframe\">\n",
       "  <thead>\n",
       "    <tr style=\"text-align: right;\">\n",
       "      <th></th>\n",
       "      <th>Conversion Certificate</th>\n",
       "      <th>Deed from Previous Owner</th>\n",
       "      <th>Electricity Connection</th>\n",
       "      <th>Electricity Connection_detail</th>\n",
       "      <th>Encumberence Certificate</th>\n",
       "      <th>Is the plot free of any legal issues?</th>\n",
       "      <th>Revenue Document</th>\n",
       "      <th>Road Available</th>\n",
       "      <th>Road Available_detail</th>\n",
       "      <th>Sewage Connection</th>\n",
       "      <th>...</th>\n",
       "      <th>open-sides</th>\n",
       "      <th>overlooking</th>\n",
       "      <th>ownership</th>\n",
       "      <th>plot-area</th>\n",
       "      <th>price</th>\n",
       "      <th>price_available</th>\n",
       "      <th>price_per_sqft</th>\n",
       "      <th>transaction</th>\n",
       "      <th>type</th>\n",
       "      <th>width-road-facing</th>\n",
       "    </tr>\n",
       "  </thead>\n",
       "  <tbody>\n",
       "    <tr>\n",
       "      <th>0</th>\n",
       "      <td>NaN</td>\n",
       "      <td>NaN</td>\n",
       "      <td>NaN</td>\n",
       "      <td>NaN</td>\n",
       "      <td>NaN</td>\n",
       "      <td>NaN</td>\n",
       "      <td>NaN</td>\n",
       "      <td>NaN</td>\n",
       "      <td>NaN</td>\n",
       "      <td>NaN</td>\n",
       "      <td>...</td>\n",
       "      <td>2.0</td>\n",
       "      <td>Garden/Park, Main Road</td>\n",
       "      <td>Freehold</td>\n",
       "      <td>1440 sqft</td>\n",
       "      <td>23 Lac</td>\n",
       "      <td>1</td>\n",
       "      <td>1597.0</td>\n",
       "      <td>New Property</td>\n",
       "      <td>Residential Land / Plot</td>\n",
       "      <td>30 m</td>\n",
       "    </tr>\n",
       "    <tr>\n",
       "      <th>1</th>\n",
       "      <td>NaN</td>\n",
       "      <td>NaN</td>\n",
       "      <td>NaN</td>\n",
       "      <td>NaN</td>\n",
       "      <td>NaN</td>\n",
       "      <td>NaN</td>\n",
       "      <td>NaN</td>\n",
       "      <td>NaN</td>\n",
       "      <td>NaN</td>\n",
       "      <td>NaN</td>\n",
       "      <td>...</td>\n",
       "      <td>1.0</td>\n",
       "      <td>Garden/Park, Main Road</td>\n",
       "      <td>Freehold</td>\n",
       "      <td>3600 sqft</td>\n",
       "      <td>60.5 Lac</td>\n",
       "      <td>1</td>\n",
       "      <td>1681.0</td>\n",
       "      <td>New Property</td>\n",
       "      <td>Residential Land / Plot</td>\n",
       "      <td>8 m</td>\n",
       "    </tr>\n",
       "    <tr>\n",
       "      <th>2</th>\n",
       "      <td>Yes</td>\n",
       "      <td>Yes</td>\n",
       "      <td>Yes</td>\n",
       "      <td>Electricity Board</td>\n",
       "      <td>Yes</td>\n",
       "      <td>Yes</td>\n",
       "      <td>NaN</td>\n",
       "      <td>Yes</td>\n",
       "      <td>Pucca Road</td>\n",
       "      <td>Yes</td>\n",
       "      <td>...</td>\n",
       "      <td>2.0</td>\n",
       "      <td>Main Road</td>\n",
       "      <td>Freehold</td>\n",
       "      <td>720 sqft</td>\n",
       "      <td>1.4 Lac</td>\n",
       "      <td>1</td>\n",
       "      <td>194.0</td>\n",
       "      <td>New Property</td>\n",
       "      <td>Residential Land / Plot</td>\n",
       "      <td>25 m</td>\n",
       "    </tr>\n",
       "    <tr>\n",
       "      <th>3</th>\n",
       "      <td>No</td>\n",
       "      <td>Yes</td>\n",
       "      <td>Yes</td>\n",
       "      <td>Electricity Board</td>\n",
       "      <td>No</td>\n",
       "      <td>Yes</td>\n",
       "      <td>Yes</td>\n",
       "      <td>Yes</td>\n",
       "      <td>Pucca Road</td>\n",
       "      <td>Yes</td>\n",
       "      <td>...</td>\n",
       "      <td>1.0</td>\n",
       "      <td>Main Road</td>\n",
       "      <td>Freehold</td>\n",
       "      <td>1615 sqft</td>\n",
       "      <td>90 Lac</td>\n",
       "      <td>1</td>\n",
       "      <td>5574.0</td>\n",
       "      <td>Resale</td>\n",
       "      <td>Residential Land / Plot</td>\n",
       "      <td>13 m</td>\n",
       "    </tr>\n",
       "    <tr>\n",
       "      <th>4</th>\n",
       "      <td>Yes</td>\n",
       "      <td>Yes</td>\n",
       "      <td>Yes</td>\n",
       "      <td>NaN</td>\n",
       "      <td>Yes</td>\n",
       "      <td>Yes</td>\n",
       "      <td>Yes</td>\n",
       "      <td>Yes</td>\n",
       "      <td>Pucca Road</td>\n",
       "      <td>Yes</td>\n",
       "      <td>...</td>\n",
       "      <td>4.0</td>\n",
       "      <td>Garden/Park, Main Road</td>\n",
       "      <td>Freehold</td>\n",
       "      <td>1680 sqft</td>\n",
       "      <td>9.5 Lac</td>\n",
       "      <td>1</td>\n",
       "      <td>565.0</td>\n",
       "      <td>Resale</td>\n",
       "      <td>Residential Land / Plot</td>\n",
       "      <td>3 m</td>\n",
       "    </tr>\n",
       "  </tbody>\n",
       "</table>\n",
       "<p>5 rows × 32 columns</p>\n",
       "</div>"
      ],
      "text/plain": [
       "  Conversion Certificate Deed from Previous Owner Electricity Connection  \\\n",
       "0                    NaN                      NaN                    NaN   \n",
       "1                    NaN                      NaN                    NaN   \n",
       "2                    Yes                      Yes                    Yes   \n",
       "3                     No                      Yes                    Yes   \n",
       "4                    Yes                      Yes                    Yes   \n",
       "\n",
       "  Electricity Connection_detail Encumberence Certificate  \\\n",
       "0                           NaN                      NaN   \n",
       "1                           NaN                      NaN   \n",
       "2             Electricity Board                      Yes   \n",
       "3             Electricity Board                       No   \n",
       "4                           NaN                      Yes   \n",
       "\n",
       "  Is the plot free of any legal issues? Revenue Document Road Available  \\\n",
       "0                                   NaN              NaN            NaN   \n",
       "1                                   NaN              NaN            NaN   \n",
       "2                                   Yes              NaN            Yes   \n",
       "3                                   Yes              Yes            Yes   \n",
       "4                                   Yes              Yes            Yes   \n",
       "\n",
       "  Road Available_detail Sewage Connection  ... open-sides  \\\n",
       "0                   NaN               NaN  ...        2.0   \n",
       "1                   NaN               NaN  ...        1.0   \n",
       "2            Pucca Road               Yes  ...        2.0   \n",
       "3            Pucca Road               Yes  ...        1.0   \n",
       "4            Pucca Road               Yes  ...        4.0   \n",
       "\n",
       "              overlooking ownership  plot-area     price price_available  \\\n",
       "0  Garden/Park, Main Road  Freehold  1440 sqft    23 Lac               1   \n",
       "1  Garden/Park, Main Road  Freehold  3600 sqft  60.5 Lac               1   \n",
       "2               Main Road  Freehold   720 sqft   1.4 Lac               1   \n",
       "3               Main Road  Freehold  1615 sqft    90 Lac               1   \n",
       "4  Garden/Park, Main Road  Freehold  1680 sqft   9.5 Lac               1   \n",
       "\n",
       "  price_per_sqft   transaction                     type  width-road-facing  \n",
       "0         1597.0  New Property  Residential Land / Plot               30 m  \n",
       "1         1681.0  New Property  Residential Land / Plot                8 m  \n",
       "2          194.0  New Property  Residential Land / Plot               25 m  \n",
       "3         5574.0        Resale  Residential Land / Plot               13 m  \n",
       "4          565.0        Resale  Residential Land / Plot                3 m  \n",
       "\n",
       "[5 rows x 32 columns]"
      ]
     },
     "execution_count": 3,
     "metadata": {},
     "output_type": "execute_result"
    }
   ],
   "source": [
    "df.head()"
   ]
  },
  {
   "cell_type": "code",
   "execution_count": 4,
   "id": "ba1de860-4077-4db3-88a1-5c6a2bd58da9",
   "metadata": {},
   "outputs": [],
   "source": [
    "# df.columns"
   ]
  },
  {
   "cell_type": "code",
   "execution_count": 5,
   "id": "47de8337-28ef-439b-bb64-36cf0099d463",
   "metadata": {},
   "outputs": [
    {
     "data": {
      "text/html": [
       "<div>\n",
       "<style scoped>\n",
       "    .dataframe tbody tr th:only-of-type {\n",
       "        vertical-align: middle;\n",
       "    }\n",
       "\n",
       "    .dataframe tbody tr th {\n",
       "        vertical-align: top;\n",
       "    }\n",
       "\n",
       "    .dataframe thead th {\n",
       "        text-align: right;\n",
       "    }\n",
       "</style>\n",
       "<table border=\"1\" class=\"dataframe\">\n",
       "  <thead>\n",
       "    <tr style=\"text-align: right;\">\n",
       "      <th></th>\n",
       "      <th>fig_count</th>\n",
       "      <th>open-sides</th>\n",
       "      <th>price_available</th>\n",
       "      <th>price_per_sqft</th>\n",
       "    </tr>\n",
       "  </thead>\n",
       "  <tbody>\n",
       "    <tr>\n",
       "      <th>count</th>\n",
       "      <td>1499.000000</td>\n",
       "      <td>984.000000</td>\n",
       "      <td>1499.000000</td>\n",
       "      <td>1121.000000</td>\n",
       "    </tr>\n",
       "    <tr>\n",
       "      <th>mean</th>\n",
       "      <td>2.726484</td>\n",
       "      <td>6.501016</td>\n",
       "      <td>0.747832</td>\n",
       "      <td>1789.763604</td>\n",
       "    </tr>\n",
       "    <tr>\n",
       "      <th>std</th>\n",
       "      <td>5.078151</td>\n",
       "      <td>105.960817</td>\n",
       "      <td>0.434402</td>\n",
       "      <td>3541.535712</td>\n",
       "    </tr>\n",
       "    <tr>\n",
       "      <th>min</th>\n",
       "      <td>0.000000</td>\n",
       "      <td>1.000000</td>\n",
       "      <td>0.000000</td>\n",
       "      <td>77.000000</td>\n",
       "    </tr>\n",
       "    <tr>\n",
       "      <th>25%</th>\n",
       "      <td>0.000000</td>\n",
       "      <td>1.000000</td>\n",
       "      <td>0.000000</td>\n",
       "      <td>556.000000</td>\n",
       "    </tr>\n",
       "    <tr>\n",
       "      <th>50%</th>\n",
       "      <td>1.000000</td>\n",
       "      <td>2.000000</td>\n",
       "      <td>1.000000</td>\n",
       "      <td>1296.000000</td>\n",
       "    </tr>\n",
       "    <tr>\n",
       "      <th>75%</th>\n",
       "      <td>4.000000</td>\n",
       "      <td>2.000000</td>\n",
       "      <td>1.000000</td>\n",
       "      <td>2066.000000</td>\n",
       "    </tr>\n",
       "    <tr>\n",
       "      <th>max</th>\n",
       "      <td>58.000000</td>\n",
       "      <td>3000.000000</td>\n",
       "      <td>1.000000</td>\n",
       "      <td>103333.000000</td>\n",
       "    </tr>\n",
       "  </tbody>\n",
       "</table>\n",
       "</div>"
      ],
      "text/plain": [
       "         fig_count   open-sides  price_available  price_per_sqft\n",
       "count  1499.000000   984.000000      1499.000000     1121.000000\n",
       "mean      2.726484     6.501016         0.747832     1789.763604\n",
       "std       5.078151   105.960817         0.434402     3541.535712\n",
       "min       0.000000     1.000000         0.000000       77.000000\n",
       "25%       0.000000     1.000000         0.000000      556.000000\n",
       "50%       1.000000     2.000000         1.000000     1296.000000\n",
       "75%       4.000000     2.000000         1.000000     2066.000000\n",
       "max      58.000000  3000.000000         1.000000   103333.000000"
      ]
     },
     "execution_count": 5,
     "metadata": {},
     "output_type": "execute_result"
    }
   ],
   "source": [
    "df.describe()"
   ]
  },
  {
   "cell_type": "code",
   "execution_count": 6,
   "id": "9e204232-53f6-4663-a35f-8c782070ba39",
   "metadata": {},
   "outputs": [
    {
     "data": {
      "text/html": [
       "<div>\n",
       "<style scoped>\n",
       "    .dataframe tbody tr th:only-of-type {\n",
       "        vertical-align: middle;\n",
       "    }\n",
       "\n",
       "    .dataframe tbody tr th {\n",
       "        vertical-align: top;\n",
       "    }\n",
       "\n",
       "    .dataframe thead th {\n",
       "        text-align: right;\n",
       "    }\n",
       "</style>\n",
       "<table border=\"1\" class=\"dataframe\">\n",
       "  <thead>\n",
       "    <tr style=\"text-align: right;\">\n",
       "      <th></th>\n",
       "      <th>Conversion Certificate</th>\n",
       "      <th>Deed from Previous Owner</th>\n",
       "      <th>Electricity Connection</th>\n",
       "      <th>Electricity Connection_detail</th>\n",
       "      <th>Encumberence Certificate</th>\n",
       "      <th>Is the plot free of any legal issues?</th>\n",
       "      <th>Revenue Document</th>\n",
       "      <th>Road Available</th>\n",
       "      <th>Road Available_detail</th>\n",
       "      <th>Sewage Connection</th>\n",
       "      <th>...</th>\n",
       "      <th>dimensions</th>\n",
       "      <th>floor</th>\n",
       "      <th>location</th>\n",
       "      <th>overlooking</th>\n",
       "      <th>ownership</th>\n",
       "      <th>plot-area</th>\n",
       "      <th>price</th>\n",
       "      <th>transaction</th>\n",
       "      <th>type</th>\n",
       "      <th>width-road-facing</th>\n",
       "    </tr>\n",
       "  </thead>\n",
       "  <tbody>\n",
       "    <tr>\n",
       "      <th>count</th>\n",
       "      <td>340</td>\n",
       "      <td>340</td>\n",
       "      <td>340</td>\n",
       "      <td>224</td>\n",
       "      <td>340</td>\n",
       "      <td>340</td>\n",
       "      <td>112</td>\n",
       "      <td>340</td>\n",
       "      <td>306</td>\n",
       "      <td>340</td>\n",
       "      <td>...</td>\n",
       "      <td>543</td>\n",
       "      <td>1062</td>\n",
       "      <td>1499</td>\n",
       "      <td>574</td>\n",
       "      <td>890</td>\n",
       "      <td>1497</td>\n",
       "      <td>1121</td>\n",
       "      <td>1499</td>\n",
       "      <td>1499</td>\n",
       "      <td>893</td>\n",
       "    </tr>\n",
       "    <tr>\n",
       "      <th>unique</th>\n",
       "      <td>2</td>\n",
       "      <td>2</td>\n",
       "      <td>2</td>\n",
       "      <td>2</td>\n",
       "      <td>2</td>\n",
       "      <td>2</td>\n",
       "      <td>2</td>\n",
       "      <td>2</td>\n",
       "      <td>3</td>\n",
       "      <td>2</td>\n",
       "      <td>...</td>\n",
       "      <td>282</td>\n",
       "      <td>17</td>\n",
       "      <td>333</td>\n",
       "      <td>7</td>\n",
       "      <td>4</td>\n",
       "      <td>399</td>\n",
       "      <td>286</td>\n",
       "      <td>2</td>\n",
       "      <td>1</td>\n",
       "      <td>59</td>\n",
       "    </tr>\n",
       "    <tr>\n",
       "      <th>top</th>\n",
       "      <td>Yes</td>\n",
       "      <td>Yes</td>\n",
       "      <td>Yes</td>\n",
       "      <td>Electricity Board</td>\n",
       "      <td>Yes</td>\n",
       "      <td>Yes</td>\n",
       "      <td>Yes</td>\n",
       "      <td>Yes</td>\n",
       "      <td>Pucca Road</td>\n",
       "      <td>Yes</td>\n",
       "      <td>...</td>\n",
       "      <td>45 X 32</td>\n",
       "      <td>3</td>\n",
       "      <td>Joka, Kolkata</td>\n",
       "      <td>Garden/Park, Main Road</td>\n",
       "      <td>Freehold</td>\n",
       "      <td>1440 sqft</td>\n",
       "      <td>30 Lac</td>\n",
       "      <td>Resale</td>\n",
       "      <td>Residential Land / Plot</td>\n",
       "      <td>10 m</td>\n",
       "    </tr>\n",
       "    <tr>\n",
       "      <th>freq</th>\n",
       "      <td>278</td>\n",
       "      <td>309</td>\n",
       "      <td>267</td>\n",
       "      <td>218</td>\n",
       "      <td>272</td>\n",
       "      <td>295</td>\n",
       "      <td>110</td>\n",
       "      <td>330</td>\n",
       "      <td>236</td>\n",
       "      <td>279</td>\n",
       "      <td>...</td>\n",
       "      <td>37</td>\n",
       "      <td>285</td>\n",
       "      <td>195</td>\n",
       "      <td>259</td>\n",
       "      <td>855</td>\n",
       "      <td>247</td>\n",
       "      <td>35</td>\n",
       "      <td>1143</td>\n",
       "      <td>1499</td>\n",
       "      <td>93</td>\n",
       "    </tr>\n",
       "  </tbody>\n",
       "</table>\n",
       "<p>4 rows × 28 columns</p>\n",
       "</div>"
      ],
      "text/plain": [
       "       Conversion Certificate Deed from Previous Owner Electricity Connection  \\\n",
       "count                     340                      340                    340   \n",
       "unique                      2                        2                      2   \n",
       "top                       Yes                      Yes                    Yes   \n",
       "freq                      278                      309                    267   \n",
       "\n",
       "       Electricity Connection_detail Encumberence Certificate  \\\n",
       "count                            224                      340   \n",
       "unique                             2                        2   \n",
       "top                Electricity Board                      Yes   \n",
       "freq                             218                      272   \n",
       "\n",
       "       Is the plot free of any legal issues? Revenue Document Road Available  \\\n",
       "count                                    340              112            340   \n",
       "unique                                     2                2              2   \n",
       "top                                      Yes              Yes            Yes   \n",
       "freq                                     295              110            330   \n",
       "\n",
       "       Road Available_detail Sewage Connection  ... dimensions floor  \\\n",
       "count                    306               340  ...        543  1062   \n",
       "unique                     3                 2  ...        282    17   \n",
       "top               Pucca Road               Yes  ...    45 X 32     3   \n",
       "freq                     236               279  ...         37   285   \n",
       "\n",
       "             location             overlooking ownership  plot-area   price  \\\n",
       "count            1499                     574       890       1497    1121   \n",
       "unique            333                       7         4        399     286   \n",
       "top     Joka, Kolkata  Garden/Park, Main Road  Freehold  1440 sqft  30 Lac   \n",
       "freq              195                     259       855        247      35   \n",
       "\n",
       "       transaction                     type width-road-facing  \n",
       "count         1499                     1499               893  \n",
       "unique           2                        1                59  \n",
       "top         Resale  Residential Land / Plot              10 m  \n",
       "freq          1143                     1499                93  \n",
       "\n",
       "[4 rows x 28 columns]"
      ]
     },
     "execution_count": 6,
     "metadata": {},
     "output_type": "execute_result"
    }
   ],
   "source": [
    "df.describe(include=['object'])"
   ]
  },
  {
   "cell_type": "markdown",
   "id": "52f4e6a8-a7c3-48aa-863a-a98297c44d59",
   "metadata": {},
   "source": [
    "# Price Per Sq_ft"
   ]
  },
  {
   "cell_type": "code",
   "execution_count": 7,
   "id": "123ade2d-ea6a-4f68-b5b6-89201b9798f9",
   "metadata": {},
   "outputs": [
    {
     "data": {
      "text/plain": [
       "(1499, 32)"
      ]
     },
     "execution_count": 7,
     "metadata": {},
     "output_type": "execute_result"
    }
   ],
   "source": [
    "df.shape"
   ]
  },
  {
   "cell_type": "code",
   "execution_count": 8,
   "id": "3551fdda-fa28-4ef7-aea6-119d03092d85",
   "metadata": {},
   "outputs": [
    {
     "data": {
      "image/png": "[encoded data removed]",
      "text/plain": [
       "<Figure size 640x480 with 1 Axes>"
      ]
     },
     "metadata": {},
     "output_type": "display_data"
    }
   ],
   "source": [
    "df = df[(df['price_per_sqft'] < 6000) | (df['price_per_sqft'].isna())]\n",
    "plt.hist(df['price_per_sqft'], bins=30)\n",
    "plt.show()"
   ]
  },
  {
   "cell_type": "code",
   "execution_count": 9,
   "id": "63aa7a3f-5dca-479d-8a23-439baf753d83",
   "metadata": {},
   "outputs": [
    {
     "data": {
      "text/plain": [
       "(1459, 32)"
      ]
     },
     "execution_count": 9,
     "metadata": {},
     "output_type": "execute_result"
    }
   ],
   "source": [
    "df.shape"
   ]
  },
  {
   "cell_type": "markdown",
   "id": "6c16e70a-7b22-4cf6-8ecf-d2b231b6c42e",
   "metadata": {
    "jp-MarkdownHeadingCollapsed": true
   },
   "source": [
    "# Location"
   ]
  },
  {
   "cell_type": "code",
   "execution_count": 10,
   "id": "46fbe433-e3fc-4338-9e4a-90fb4a5f1721",
   "metadata": {},
   "outputs": [
    {
     "data": {
      "text/plain": [
       "(1364, 32)"
      ]
     },
     "execution_count": 10,
     "metadata": {},
     "output_type": "execute_result"
    }
   ],
   "source": [
    "df = df[df['location'] != 'Kolkata']\n",
    "df['location'] = df['location'].str.split(', Kolkata', expand=True)[0]\n",
    "df.shape"
   ]
  },
  {
   "cell_type": "code",
   "execution_count": 11,
   "id": "7971f62a-0fe2-4506-9a52-26aa7cc943eb",
   "metadata": {},
   "outputs": [
    {
     "data": {
      "text/plain": [
       "location\n",
       "Joka                195\n",
       "Action Area 3       107\n",
       "Rajarhat             58\n",
       "Sonarpur             51\n",
       "New Town             48\n",
       "                   ... \n",
       "Camac Street          1\n",
       "Canning 2             1\n",
       "Metiabruz             1\n",
       "Park Street Area      1\n",
       "Bagmari               1\n",
       "Name: count, Length: 332, dtype: int64"
      ]
     },
     "execution_count": 11,
     "metadata": {},
     "output_type": "execute_result"
    }
   ],
   "source": [
    "df['location'].value_counts()"
   ]
  },
  {
   "cell_type": "markdown",
   "id": "e497586c-e7b9-4087-a5be-3f2e598a0e2e",
   "metadata": {
    "jp-MarkdownHeadingCollapsed": true
   },
   "source": [
    "# OverLooking"
   ]
  },
  {
   "cell_type": "code",
   "execution_count": 12,
   "id": "ee7f99e5-6ad8-4d09-9d23-5ab131a9b2e1",
   "metadata": {},
   "outputs": [
    {
     "data": {
      "text/plain": [
       "(1364, 32)"
      ]
     },
     "execution_count": 12,
     "metadata": {},
     "output_type": "execute_result"
    }
   ],
   "source": [
    "df.shape"
   ]
  },
  {
   "cell_type": "code",
   "execution_count": 13,
   "id": "440df737-a7e7-4f60-9561-f5649821f87a",
   "metadata": {},
   "outputs": [
    {
     "data": {
      "text/plain": [
       "array(['Garden/Park, Main Road', 'Main Road', nan, 'Garden/Park',\n",
       "       'Main Road, Garden/Park', 'Garden/Park, Pool, Main Road',\n",
       "       'Pool, Garden/Park, Main Road', 'Pool, Main Road'], dtype=object)"
      ]
     },
     "execution_count": 13,
     "metadata": {},
     "output_type": "execute_result"
    }
   ],
   "source": [
    "df['overlooking'].unique()"
   ]
  },
  {
   "cell_type": "code",
   "execution_count": 14,
   "id": "f903b663-4923-4fa3-93ed-493fc154fd73",
   "metadata": {},
   "outputs": [
    {
     "data": {
      "text/html": [
       "<div>\n",
       "<style scoped>\n",
       "    .dataframe tbody tr th:only-of-type {\n",
       "        vertical-align: middle;\n",
       "    }\n",
       "\n",
       "    .dataframe tbody tr th {\n",
       "        vertical-align: top;\n",
       "    }\n",
       "\n",
       "    .dataframe thead th {\n",
       "        text-align: right;\n",
       "    }\n",
       "</style>\n",
       "<table border=\"1\" class=\"dataframe\">\n",
       "  <thead>\n",
       "    <tr style=\"text-align: right;\">\n",
       "      <th></th>\n",
       "      <th>Conversion Certificate</th>\n",
       "      <th>Deed from Previous Owner</th>\n",
       "      <th>Electricity Connection</th>\n",
       "      <th>Electricity Connection_detail</th>\n",
       "      <th>Encumberence Certificate</th>\n",
       "      <th>Is the plot free of any legal issues?</th>\n",
       "      <th>Revenue Document</th>\n",
       "      <th>Road Available</th>\n",
       "      <th>Road Available_detail</th>\n",
       "      <th>Sewage Connection</th>\n",
       "      <th>...</th>\n",
       "      <th>plot-area</th>\n",
       "      <th>price</th>\n",
       "      <th>price_available</th>\n",
       "      <th>price_per_sqft</th>\n",
       "      <th>transaction</th>\n",
       "      <th>type</th>\n",
       "      <th>width-road-facing</th>\n",
       "      <th>Garden/Park</th>\n",
       "      <th>Main Road</th>\n",
       "      <th>Pool</th>\n",
       "    </tr>\n",
       "  </thead>\n",
       "  <tbody>\n",
       "    <tr>\n",
       "      <th>0</th>\n",
       "      <td>NaN</td>\n",
       "      <td>NaN</td>\n",
       "      <td>NaN</td>\n",
       "      <td>NaN</td>\n",
       "      <td>NaN</td>\n",
       "      <td>NaN</td>\n",
       "      <td>NaN</td>\n",
       "      <td>NaN</td>\n",
       "      <td>NaN</td>\n",
       "      <td>NaN</td>\n",
       "      <td>...</td>\n",
       "      <td>1440 sqft</td>\n",
       "      <td>23 Lac</td>\n",
       "      <td>1</td>\n",
       "      <td>1597.0</td>\n",
       "      <td>New Property</td>\n",
       "      <td>Residential Land / Plot</td>\n",
       "      <td>30 m</td>\n",
       "      <td>1</td>\n",
       "      <td>1</td>\n",
       "      <td>0</td>\n",
       "    </tr>\n",
       "    <tr>\n",
       "      <th>1</th>\n",
       "      <td>NaN</td>\n",
       "      <td>NaN</td>\n",
       "      <td>NaN</td>\n",
       "      <td>NaN</td>\n",
       "      <td>NaN</td>\n",
       "      <td>NaN</td>\n",
       "      <td>NaN</td>\n",
       "      <td>NaN</td>\n",
       "      <td>NaN</td>\n",
       "      <td>NaN</td>\n",
       "      <td>...</td>\n",
       "      <td>3600 sqft</td>\n",
       "      <td>60.5 Lac</td>\n",
       "      <td>1</td>\n",
       "      <td>1681.0</td>\n",
       "      <td>New Property</td>\n",
       "      <td>Residential Land / Plot</td>\n",
       "      <td>8 m</td>\n",
       "      <td>1</td>\n",
       "      <td>1</td>\n",
       "      <td>0</td>\n",
       "    </tr>\n",
       "    <tr>\n",
       "      <th>2</th>\n",
       "      <td>Yes</td>\n",
       "      <td>Yes</td>\n",
       "      <td>Yes</td>\n",
       "      <td>Electricity Board</td>\n",
       "      <td>Yes</td>\n",
       "      <td>Yes</td>\n",
       "      <td>NaN</td>\n",
       "      <td>Yes</td>\n",
       "      <td>Pucca Road</td>\n",
       "      <td>Yes</td>\n",
       "      <td>...</td>\n",
       "      <td>720 sqft</td>\n",
       "      <td>1.4 Lac</td>\n",
       "      <td>1</td>\n",
       "      <td>194.0</td>\n",
       "      <td>New Property</td>\n",
       "      <td>Residential Land / Plot</td>\n",
       "      <td>25 m</td>\n",
       "      <td>0</td>\n",
       "      <td>1</td>\n",
       "      <td>0</td>\n",
       "    </tr>\n",
       "    <tr>\n",
       "      <th>3</th>\n",
       "      <td>No</td>\n",
       "      <td>Yes</td>\n",
       "      <td>Yes</td>\n",
       "      <td>Electricity Board</td>\n",
       "      <td>No</td>\n",
       "      <td>Yes</td>\n",
       "      <td>Yes</td>\n",
       "      <td>Yes</td>\n",
       "      <td>Pucca Road</td>\n",
       "      <td>Yes</td>\n",
       "      <td>...</td>\n",
       "      <td>1615 sqft</td>\n",
       "      <td>90 Lac</td>\n",
       "      <td>1</td>\n",
       "      <td>5574.0</td>\n",
       "      <td>Resale</td>\n",
       "      <td>Residential Land / Plot</td>\n",
       "      <td>13 m</td>\n",
       "      <td>0</td>\n",
       "      <td>1</td>\n",
       "      <td>0</td>\n",
       "    </tr>\n",
       "    <tr>\n",
       "      <th>4</th>\n",
       "      <td>Yes</td>\n",
       "      <td>Yes</td>\n",
       "      <td>Yes</td>\n",
       "      <td>NaN</td>\n",
       "      <td>Yes</td>\n",
       "      <td>Yes</td>\n",
       "      <td>Yes</td>\n",
       "      <td>Yes</td>\n",
       "      <td>Pucca Road</td>\n",
       "      <td>Yes</td>\n",
       "      <td>...</td>\n",
       "      <td>1680 sqft</td>\n",
       "      <td>9.5 Lac</td>\n",
       "      <td>1</td>\n",
       "      <td>565.0</td>\n",
       "      <td>Resale</td>\n",
       "      <td>Residential Land / Plot</td>\n",
       "      <td>3 m</td>\n",
       "      <td>1</td>\n",
       "      <td>1</td>\n",
       "      <td>0</td>\n",
       "    </tr>\n",
       "  </tbody>\n",
       "</table>\n",
       "<p>5 rows × 34 columns</p>\n",
       "</div>"
      ],
      "text/plain": [
       "  Conversion Certificate Deed from Previous Owner Electricity Connection  \\\n",
       "0                    NaN                      NaN                    NaN   \n",
       "1                    NaN                      NaN                    NaN   \n",
       "2                    Yes                      Yes                    Yes   \n",
       "3                     No                      Yes                    Yes   \n",
       "4                    Yes                      Yes                    Yes   \n",
       "\n",
       "  Electricity Connection_detail Encumberence Certificate  \\\n",
       "0                           NaN                      NaN   \n",
       "1                           NaN                      NaN   \n",
       "2             Electricity Board                      Yes   \n",
       "3             Electricity Board                       No   \n",
       "4                           NaN                      Yes   \n",
       "\n",
       "  Is the plot free of any legal issues? Revenue Document Road Available  \\\n",
       "0                                   NaN              NaN            NaN   \n",
       "1                                   NaN              NaN            NaN   \n",
       "2                                   Yes              NaN            Yes   \n",
       "3                                   Yes              Yes            Yes   \n",
       "4                                   Yes              Yes            Yes   \n",
       "\n",
       "  Road Available_detail Sewage Connection  ...  plot-area     price  \\\n",
       "0                   NaN               NaN  ...  1440 sqft    23 Lac   \n",
       "1                   NaN               NaN  ...  3600 sqft  60.5 Lac   \n",
       "2            Pucca Road               Yes  ...   720 sqft   1.4 Lac   \n",
       "3            Pucca Road               Yes  ...  1615 sqft    90 Lac   \n",
       "4            Pucca Road               Yes  ...  1680 sqft   9.5 Lac   \n",
       "\n",
       "  price_available price_per_sqft   transaction                     type  \\\n",
       "0               1         1597.0  New Property  Residential Land / Plot   \n",
       "1               1         1681.0  New Property  Residential Land / Plot   \n",
       "2               1          194.0  New Property  Residential Land / Plot   \n",
       "3               1         5574.0        Resale  Residential Land / Plot   \n",
       "4               1          565.0        Resale  Residential Land / Plot   \n",
       "\n",
       "  width-road-facing Garden/Park Main Road  Pool  \n",
       "0              30 m           1         1     0  \n",
       "1               8 m           1         1     0  \n",
       "2              25 m           0         1     0  \n",
       "3              13 m           0         1     0  \n",
       "4               3 m           1         1     0  \n",
       "\n",
       "[5 rows x 34 columns]"
      ]
     },
     "execution_count": 14,
     "metadata": {},
     "output_type": "execute_result"
    }
   ],
   "source": [
    "dummy_columns = df['overlooking'].str.get_dummies(sep = ', ')\n",
    "df = pd.concat([df, dummy_columns], axis=1)\n",
    "df = df.drop(['overlooking'], axis=1)\n",
    "df.head()"
   ]
  },
  {
   "cell_type": "code",
   "execution_count": 15,
   "id": "55fd7bb3-f50d-44c8-865d-a08aab689180",
   "metadata": {},
   "outputs": [
    {
     "data": {
      "image/png": "[encoded data removed]",
      "text/plain": [
       "<Figure size 640x480 with 3 Axes>"
      ]
     },
     "metadata": {},
     "output_type": "display_data"
    }
   ],
   "source": [
    "fig, (ax1, ax2, ax3) = plt.subplots(1,3)\n",
    "ax1.scatter(df['Garden/Park'], df['price_per_sqft'])\n",
    "ax2.scatter(df['Main Road'], df['price_per_sqft'])\n",
    "ax3.scatter(df['Pool'], df['price_per_sqft'])\n",
    "\n",
    "fig.tight_layout()\n",
    "plt.show()"
   ]
  },
  {
   "cell_type": "markdown",
   "id": "082d4804-2273-44ef-818e-077929aa753a",
   "metadata": {},
   "source": [
    "# Width-Road Facing"
   ]
  },
  {
   "cell_type": "code",
   "execution_count": 16,
   "id": "871a73e0-ca5e-45f7-b707-6b8310480a97",
   "metadata": {},
   "outputs": [
    {
     "data": {
      "text/html": [
       "<div>\n",
       "<style scoped>\n",
       "    .dataframe tbody tr th:only-of-type {\n",
       "        vertical-align: middle;\n",
       "    }\n",
       "\n",
       "    .dataframe tbody tr th {\n",
       "        vertical-align: top;\n",
       "    }\n",
       "\n",
       "    .dataframe thead th {\n",
       "        text-align: right;\n",
       "    }\n",
       "</style>\n",
       "<table border=\"1\" class=\"dataframe\">\n",
       "  <thead>\n",
       "    <tr style=\"text-align: right;\">\n",
       "      <th></th>\n",
       "      <th>Conversion Certificate</th>\n",
       "      <th>Deed from Previous Owner</th>\n",
       "      <th>Electricity Connection</th>\n",
       "      <th>Electricity Connection_detail</th>\n",
       "      <th>Encumberence Certificate</th>\n",
       "      <th>Is the plot free of any legal issues?</th>\n",
       "      <th>Revenue Document</th>\n",
       "      <th>Road Available</th>\n",
       "      <th>Road Available_detail</th>\n",
       "      <th>Sewage Connection</th>\n",
       "      <th>...</th>\n",
       "      <th>plot-area</th>\n",
       "      <th>price</th>\n",
       "      <th>price_available</th>\n",
       "      <th>price_per_sqft</th>\n",
       "      <th>transaction</th>\n",
       "      <th>type</th>\n",
       "      <th>Garden/Park</th>\n",
       "      <th>Main Road</th>\n",
       "      <th>Pool</th>\n",
       "      <th>width-road</th>\n",
       "    </tr>\n",
       "  </thead>\n",
       "  <tbody>\n",
       "    <tr>\n",
       "      <th>0</th>\n",
       "      <td>NaN</td>\n",
       "      <td>NaN</td>\n",
       "      <td>NaN</td>\n",
       "      <td>NaN</td>\n",
       "      <td>NaN</td>\n",
       "      <td>NaN</td>\n",
       "      <td>NaN</td>\n",
       "      <td>NaN</td>\n",
       "      <td>NaN</td>\n",
       "      <td>NaN</td>\n",
       "      <td>...</td>\n",
       "      <td>1440 sqft</td>\n",
       "      <td>23 Lac</td>\n",
       "      <td>1</td>\n",
       "      <td>1597.0</td>\n",
       "      <td>New Property</td>\n",
       "      <td>Residential Land / Plot</td>\n",
       "      <td>1</td>\n",
       "      <td>1</td>\n",
       "      <td>0</td>\n",
       "      <td>30.0</td>\n",
       "    </tr>\n",
       "    <tr>\n",
       "      <th>1</th>\n",
       "      <td>NaN</td>\n",
       "      <td>NaN</td>\n",
       "      <td>NaN</td>\n",
       "      <td>NaN</td>\n",
       "      <td>NaN</td>\n",
       "      <td>NaN</td>\n",
       "      <td>NaN</td>\n",
       "      <td>NaN</td>\n",
       "      <td>NaN</td>\n",
       "      <td>NaN</td>\n",
       "      <td>...</td>\n",
       "      <td>3600 sqft</td>\n",
       "      <td>60.5 Lac</td>\n",
       "      <td>1</td>\n",
       "      <td>1681.0</td>\n",
       "      <td>New Property</td>\n",
       "      <td>Residential Land / Plot</td>\n",
       "      <td>1</td>\n",
       "      <td>1</td>\n",
       "      <td>0</td>\n",
       "      <td>8.0</td>\n",
       "    </tr>\n",
       "    <tr>\n",
       "      <th>2</th>\n",
       "      <td>Yes</td>\n",
       "      <td>Yes</td>\n",
       "      <td>Yes</td>\n",
       "      <td>Electricity Board</td>\n",
       "      <td>Yes</td>\n",
       "      <td>Yes</td>\n",
       "      <td>NaN</td>\n",
       "      <td>Yes</td>\n",
       "      <td>Pucca Road</td>\n",
       "      <td>Yes</td>\n",
       "      <td>...</td>\n",
       "      <td>720 sqft</td>\n",
       "      <td>1.4 Lac</td>\n",
       "      <td>1</td>\n",
       "      <td>194.0</td>\n",
       "      <td>New Property</td>\n",
       "      <td>Residential Land / Plot</td>\n",
       "      <td>0</td>\n",
       "      <td>1</td>\n",
       "      <td>0</td>\n",
       "      <td>25.0</td>\n",
       "    </tr>\n",
       "    <tr>\n",
       "      <th>3</th>\n",
       "      <td>No</td>\n",
       "      <td>Yes</td>\n",
       "      <td>Yes</td>\n",
       "      <td>Electricity Board</td>\n",
       "      <td>No</td>\n",
       "      <td>Yes</td>\n",
       "      <td>Yes</td>\n",
       "      <td>Yes</td>\n",
       "      <td>Pucca Road</td>\n",
       "      <td>Yes</td>\n",
       "      <td>...</td>\n",
       "      <td>1615 sqft</td>\n",
       "      <td>90 Lac</td>\n",
       "      <td>1</td>\n",
       "      <td>5574.0</td>\n",
       "      <td>Resale</td>\n",
       "      <td>Residential Land / Plot</td>\n",
       "      <td>0</td>\n",
       "      <td>1</td>\n",
       "      <td>0</td>\n",
       "      <td>13.0</td>\n",
       "    </tr>\n",
       "    <tr>\n",
       "      <th>4</th>\n",
       "      <td>Yes</td>\n",
       "      <td>Yes</td>\n",
       "      <td>Yes</td>\n",
       "      <td>NaN</td>\n",
       "      <td>Yes</td>\n",
       "      <td>Yes</td>\n",
       "      <td>Yes</td>\n",
       "      <td>Yes</td>\n",
       "      <td>Pucca Road</td>\n",
       "      <td>Yes</td>\n",
       "      <td>...</td>\n",
       "      <td>1680 sqft</td>\n",
       "      <td>9.5 Lac</td>\n",
       "      <td>1</td>\n",
       "      <td>565.0</td>\n",
       "      <td>Resale</td>\n",
       "      <td>Residential Land / Plot</td>\n",
       "      <td>1</td>\n",
       "      <td>1</td>\n",
       "      <td>0</td>\n",
       "      <td>3.0</td>\n",
       "    </tr>\n",
       "  </tbody>\n",
       "</table>\n",
       "<p>5 rows × 34 columns</p>\n",
       "</div>"
      ],
      "text/plain": [
       "  Conversion Certificate Deed from Previous Owner Electricity Connection  \\\n",
       "0                    NaN                      NaN                    NaN   \n",
       "1                    NaN                      NaN                    NaN   \n",
       "2                    Yes                      Yes                    Yes   \n",
       "3                     No                      Yes                    Yes   \n",
       "4                    Yes                      Yes                    Yes   \n",
       "\n",
       "  Electricity Connection_detail Encumberence Certificate  \\\n",
       "0                           NaN                      NaN   \n",
       "1                           NaN                      NaN   \n",
       "2             Electricity Board                      Yes   \n",
       "3             Electricity Board                       No   \n",
       "4                           NaN                      Yes   \n",
       "\n",
       "  Is the plot free of any legal issues? Revenue Document Road Available  \\\n",
       "0                                   NaN              NaN            NaN   \n",
       "1                                   NaN              NaN            NaN   \n",
       "2                                   Yes              NaN            Yes   \n",
       "3                                   Yes              Yes            Yes   \n",
       "4                                   Yes              Yes            Yes   \n",
       "\n",
       "  Road Available_detail Sewage Connection  ...  plot-area     price  \\\n",
       "0                   NaN               NaN  ...  1440 sqft    23 Lac   \n",
       "1                   NaN               NaN  ...  3600 sqft  60.5 Lac   \n",
       "2            Pucca Road               Yes  ...   720 sqft   1.4 Lac   \n",
       "3            Pucca Road               Yes  ...  1615 sqft    90 Lac   \n",
       "4            Pucca Road               Yes  ...  1680 sqft   9.5 Lac   \n",
       "\n",
       "  price_available price_per_sqft   transaction                     type  \\\n",
       "0               1         1597.0  New Property  Residential Land / Plot   \n",
       "1               1         1681.0  New Property  Residential Land / Plot   \n",
       "2               1          194.0  New Property  Residential Land / Plot   \n",
       "3               1         5574.0        Resale  Residential Land / Plot   \n",
       "4               1          565.0        Resale  Residential Land / Plot   \n",
       "\n",
       "  Garden/Park Main Road Pool  width-road  \n",
       "0           1         1    0        30.0  \n",
       "1           1         1    0         8.0  \n",
       "2           0         1    0        25.0  \n",
       "3           0         1    0        13.0  \n",
       "4           1         1    0         3.0  \n",
       "\n",
       "[5 rows x 34 columns]"
      ]
     },
     "execution_count": 16,
     "metadata": {},
     "output_type": "execute_result"
    }
   ],
   "source": [
    "df['width-road'] = df['width-road-facing'].str.split(' m', expand=True)[0].astype(float)\n",
    "# df = df[df['width-road'] <= 33]\n",
    "df = df.drop(['width-road-facing'], axis=1)\n",
    "df.head()"
   ]
  },
  {
   "cell_type": "code",
   "execution_count": 17,
   "id": "f3aac54c-eca6-422c-af80-67c9b08d51db",
   "metadata": {},
   "outputs": [
    {
     "data": {
      "text/plain": [
       "(1364, 34)"
      ]
     },
     "execution_count": 17,
     "metadata": {},
     "output_type": "execute_result"
    }
   ],
   "source": [
    "df.shape"
   ]
  },
  {
   "cell_type": "code",
   "execution_count": 18,
   "id": "1905c280-6f0c-4354-b3cb-640278e49540",
   "metadata": {},
   "outputs": [],
   "source": [
    "median_width = (df['width-road'].median())\n",
    "\n",
    "def width(row) :\n",
    "    if pd.isna(row['width-road']) :\n",
    "        if pd.isna(row['open-sides']) : return row['width-road']\n",
    "        else : return median_width\n",
    "    else : return row['width-road']\n",
    "\n",
    "df['width-road'] = df.apply(width, axis=1)"
   ]
  },
  {
   "cell_type": "code",
   "execution_count": 19,
   "id": "0c45ed41-6498-4c8f-9078-511ece418fbe",
   "metadata": {},
   "outputs": [],
   "source": [
    "median_open_sides = df['open-sides'].median()\n",
    "\n",
    "def open_sides(row) :\n",
    "    if pd.isna(row['open-sides']) :\n",
    "        if pd.isna(row['width-road']) : return row['open-sides']\n",
    "        else : return median_open_sides\n",
    "    else : return row['open-sides']\n",
    "\n",
    "df['open-sides'] = df.apply(open_sides, axis=1)"
   ]
  },
  {
   "cell_type": "code",
   "execution_count": 20,
   "id": "4ea94a84-b099-4848-89a7-aa19170a2f8e",
   "metadata": {},
   "outputs": [
    {
     "data": {
      "image/png": "[encoded data removed]",
      "text/plain": [
       "<Figure size 800x400 with 2 Axes>"
      ]
     },
     "metadata": {},
     "output_type": "display_data"
    }
   ],
   "source": [
    "fig, (ax1, ax2) = plt.subplots(1,2, figsize = (8,4))\n",
    "ax1.scatter(df['width-road'], df['price_per_sqft'])\n",
    "ax2.hist(df['width-road'], bins=10)\n",
    "fig.tight_layout()\n",
    "plt.show()"
   ]
  },
  {
   "cell_type": "code",
   "execution_count": 21,
   "id": "f34767e6-84a2-45d6-9e87-3e6075c10a3d",
   "metadata": {},
   "outputs": [
    {
     "data": {
      "text/plain": [
       "(1364, 34)"
      ]
     },
     "execution_count": 21,
     "metadata": {},
     "output_type": "execute_result"
    }
   ],
   "source": [
    "df.shape"
   ]
  },
  {
   "cell_type": "markdown",
   "id": "b645e645-7c71-4ec6-998f-4c90127a6bf5",
   "metadata": {},
   "source": [
    "# Price"
   ]
  },
  {
   "cell_type": "code",
   "execution_count": 22,
   "id": "f3078108-ceda-45c7-ae66-9cf82b82abba",
   "metadata": {},
   "outputs": [
    {
     "data": {
      "text/plain": [
       "0    23.0\n",
       "1    60.5\n",
       "2     1.4\n",
       "3    90.0\n",
       "4     9.5\n",
       "Name: price, dtype: float64"
      ]
     },
     "execution_count": 22,
     "metadata": {},
     "output_type": "execute_result"
    }
   ],
   "source": [
    "def price_to_lakhs(x) :\n",
    "    if pd.isna(x) : return x\n",
    "    (numeric, short) = x.split(' ')\n",
    "    if short == 'Lac' : return float(numeric)\n",
    "    if short == 'Cr' : return float(numeric) * 100\n",
    "\n",
    "df['price'] = df['price'].apply(price_to_lakhs)\n",
    "df['price'].head()"
   ]
  },
  {
   "cell_type": "code",
   "execution_count": 23,
   "id": "b1e87009-e2d2-4467-86c1-5e6388948c87",
   "metadata": {},
   "outputs": [
    {
     "data": {
      "text/plain": [
       "(1364, 34)"
      ]
     },
     "execution_count": 23,
     "metadata": {},
     "output_type": "execute_result"
    }
   ],
   "source": [
    "df.shape"
   ]
  },
  {
   "cell_type": "markdown",
   "id": "df141b9d-b614-4b78-b3e3-c75268f29864",
   "metadata": {
    "jp-MarkdownHeadingCollapsed": true
   },
   "source": [
    "# Area (sqft)"
   ]
  },
  {
   "cell_type": "code",
   "execution_count": 24,
   "id": "e246ce33-06f1-47f9-ad1d-312b40aa58ae",
   "metadata": {},
   "outputs": [
    {
     "data": {
      "text/plain": [
       "0    1440.0\n",
       "1    3600.0\n",
       "2     720.0\n",
       "3    1615.0\n",
       "4    1680.0\n",
       "Name: area, dtype: float64"
      ]
     },
     "execution_count": 24,
     "metadata": {},
     "output_type": "execute_result"
    }
   ],
   "source": [
    "df['area'] = df['plot-area'].str.split(' ', expand=True)[0].astype(float)\n",
    "df = df.drop(['plot-area'], axis=1)\n",
    "df['area'].head()"
   ]
  },
  {
   "cell_type": "markdown",
   "id": "75c2052a-770c-4154-b0bf-c79f7a88d8f4",
   "metadata": {
    "jp-MarkdownHeadingCollapsed": true
   },
   "source": [
    "# Construction"
   ]
  },
  {
   "cell_type": "code",
   "execution_count": 25,
   "id": "8c53dcae-b914-4dbe-90a6-54fa1a39fcdb",
   "metadata": {},
   "outputs": [
    {
     "data": {
      "text/plain": [
       "array(['Yes', 'No'], dtype=object)"
      ]
     },
     "execution_count": 25,
     "metadata": {},
     "output_type": "execute_result"
    }
   ],
   "source": [
    "def set_construction(x) :\n",
    "    if x == 'Yes' : return x\n",
    "    return 'No'\n",
    "\n",
    "df['construction'] = df['construction'].apply(set_construction)\n",
    "df['construction'].unique()"
   ]
  },
  {
   "cell_type": "markdown",
   "id": "733d7a86-e713-483f-a678-d46d1ea11f4e",
   "metadata": {
    "jp-MarkdownHeadingCollapsed": true
   },
   "source": [
    "# Boundary"
   ]
  },
  {
   "cell_type": "code",
   "execution_count": 26,
   "id": "18c214cb-409c-42cd-a035-2b5c00c817b7",
   "metadata": {},
   "outputs": [
    {
     "data": {
      "text/plain": [
       "boundary\n",
       "Yes    710\n",
       "No     654\n",
       "Name: count, dtype: int64"
      ]
     },
     "execution_count": 26,
     "metadata": {},
     "output_type": "execute_result"
    }
   ],
   "source": [
    "df['boundary'] = df['boundary'].fillna('No')\n",
    "df['boundary'].value_counts()"
   ]
  },
  {
   "cell_type": "markdown",
   "id": "9408fab4-feda-4faa-b505-711b0cd5d090",
   "metadata": {
    "jp-MarkdownHeadingCollapsed": true
   },
   "source": [
    "# Ownership"
   ]
  },
  {
   "cell_type": "code",
   "execution_count": 27,
   "id": "603c94ff-7269-423d-b30d-518d10b94463",
   "metadata": {},
   "outputs": [
    {
     "data": {
      "text/plain": [
       "ownership\n",
       "Freehold                791\n",
       "Power Of Attorney        13\n",
       "Co-operative Society     11\n",
       "Leasehold                 9\n",
       "Name: count, dtype: int64"
      ]
     },
     "execution_count": 27,
     "metadata": {},
     "output_type": "execute_result"
    }
   ],
   "source": [
    "df['ownership'].value_counts()"
   ]
  },
  {
   "cell_type": "markdown",
   "id": "8901e650-6a20-4553-a2bc-d7fa67563536",
   "metadata": {},
   "source": [
    "Makes no sense to keep it a skewed column and which has so many empty rows. So drop it"
   ]
  },
  {
   "cell_type": "code",
   "execution_count": 28,
   "id": "05b676f2-18ee-439c-ae98-ca9474eb95fc",
   "metadata": {},
   "outputs": [],
   "source": [
    "df = df.drop(['ownership'], axis=1)"
   ]
  },
  {
   "cell_type": "markdown",
   "id": "a68705ee-f7fa-439d-8e90-5a709eae2f52",
   "metadata": {},
   "source": [
    "# CSV Transform"
   ]
  },
  {
   "cell_type": "code",
   "execution_count": 29,
   "id": "5f0ae9f4-753e-44bd-b3f0-dda706185e4b",
   "metadata": {},
   "outputs": [],
   "source": [
    "df.columns = df.columns.str.lower().str.replace(' ', '_').str.replace('-', '_').str.replace('/','_').str.replace('?','').str.replace(r'(?<=\\w)([A-Z])', r'_\\1').str.lower()"
   ]
  },
  {
   "cell_type": "code",
   "execution_count": 30,
   "id": "f28057d3-43ee-4faf-a135-000a3dec4a5c",
   "metadata": {},
   "outputs": [
    {
     "name": "stdout",
     "output_type": "stream",
     "text": [
      "Converted to csv\n"
     ]
    }
   ],
   "source": [
    "df.to_csv('data.csv', index=False)\n",
    "print('Converted to csv')"
   ]
  },
  {
   "cell_type": "code",
   "execution_count": 35,
   "id": "84f80693-0202-49df-a223-aad18287041a",
   "metadata": {},
   "outputs": [
    {
     "name": "stdout",
     "output_type": "stream",
     "text": [
      "[1 0]\n"
     ]
    },
    {
     "data": {
      "text/plain": [
       "((1022, 32), (342, 30))"
      ]
     },
     "execution_count": 35,
     "metadata": {},
     "output_type": "execute_result"
    }
   ],
   "source": [
    "print(df['price_available'].unique())\n",
    "\n",
    "train = df[df['price_available'] == 1]\n",
    "test = df[df['price_available'] == 0] \n",
    "\n",
    "train = train.drop(['price_available'], axis=1)\n",
    "test = test.drop(['price', 'price_available', 'price_per_sqft'], axis=1)\n",
    "\n",
    "train.shape, test.shape"
   ]
  },
  {
   "cell_type": "code",
   "execution_count": 37,
   "id": "8ebf1f51-55cb-46fd-b5a7-89db1baf13a4",
   "metadata": {},
   "outputs": [
    {
     "name": "stdout",
     "output_type": "stream",
     "text": [
      "Created training and testing data\n"
     ]
    }
   ],
   "source": [
    "train.to_csv('train.csv', index=False)\n",
    "test.to_csv('test.csv', index=False)\n",
    "\n",
    "print('Created training and testing data')"
   ]
  },
  {
   "cell_type": "code",
   "execution_count": null,
   "id": "0163f543-c1c9-49e9-a229-cd33c0a47493",
   "metadata": {},
   "outputs": [],
   "source": []
  }
 ],
 "metadata": {
  "kernelspec": {
   "display_name": "Python 3 (ipykernel)",
   "language": "python",
   "name": "python3"
  },
  "language_info": {
   "codemirror_mode": {
    "name": "ipython",
    "version": 3
   },
   "file_extension": ".py",
   "mimetype": "text/x-python",
   "name": "python",
   "nbconvert_exporter": "python",
   "pygments_lexer": "ipython3",
   "version": "3.9.7"
  }
 },
 "nbformat": 4,
 "nbformat_minor": 5
}
