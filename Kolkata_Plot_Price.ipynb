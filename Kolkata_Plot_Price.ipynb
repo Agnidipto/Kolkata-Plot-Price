{
 "cells": [
  {
   "cell_type": "code",
   "execution_count": 1,
   "id": "e7c079f0-fcb5-454f-bf16-ff917e2c30ea",
   "metadata": {},
   "outputs": [],
   "source": [
    "import pandas as pd\n",
    "import numpy as np\n",
    "import matplotlib.pyplot as plt\n",
    "\n",
    "from sklearn.linear_model import SGDRegressor\n",
    "from sklearn.preprocessing import StandardScaler\n",
    "from sklearn.pipeline import make_pipeline\n",
    "from sklearn.linear_model import LinearRegression\n",
    "\n",
    "import tensorflow as tf\n",
    "from tensorflow.keras import Sequential\n",
    "from tensorflow.keras.layers import Dense\n",
    "from tensorflow.keras.losses import MeanSquaredError\n",
    "from tensorflow.keras.optimizers import Adam"
   ]
  },
  {
   "cell_type": "code",
   "execution_count": 2,
   "id": "bc116618-dc2e-4108-bcb8-998231267848",
   "metadata": {},
   "outputs": [
    {
     "data": {
      "text/html": [
       "<div>\n",
       "<style scoped>\n",
       "    .dataframe tbody tr th:only-of-type {\n",
       "        vertical-align: middle;\n",
       "    }\n",
       "\n",
       "    .dataframe tbody tr th {\n",
       "        vertical-align: top;\n",
       "    }\n",
       "\n",
       "    .dataframe thead th {\n",
       "        text-align: right;\n",
       "    }\n",
       "</style>\n",
       "<table border=\"1\" class=\"dataframe\">\n",
       "  <thead>\n",
       "    <tr style=\"text-align: right;\">\n",
       "      <th></th>\n",
       "      <th>boundary</th>\n",
       "      <th>construction</th>\n",
       "      <th>dimensions</th>\n",
       "      <th>fig_count</th>\n",
       "      <th>floor</th>\n",
       "      <th>location</th>\n",
       "      <th>open_sides</th>\n",
       "      <th>price</th>\n",
       "      <th>price_per_sqft</th>\n",
       "      <th>transaction</th>\n",
       "      <th>type</th>\n",
       "      <th>garden_park</th>\n",
       "      <th>main_road</th>\n",
       "      <th>pool</th>\n",
       "      <th>width_road</th>\n",
       "      <th>area</th>\n",
       "    </tr>\n",
       "  </thead>\n",
       "  <tbody>\n",
       "    <tr>\n",
       "      <th>0</th>\n",
       "      <td>Yes</td>\n",
       "      <td>Yes</td>\n",
       "      <td>45 X 32</td>\n",
       "      <td>10</td>\n",
       "      <td>5</td>\n",
       "      <td>Rajarhat</td>\n",
       "      <td>2.0</td>\n",
       "      <td>23.0</td>\n",
       "      <td>1597</td>\n",
       "      <td>New Property</td>\n",
       "      <td>Residential Land / Plot</td>\n",
       "      <td>1</td>\n",
       "      <td>1</td>\n",
       "      <td>0</td>\n",
       "      <td>30.0</td>\n",
       "      <td>1440</td>\n",
       "    </tr>\n",
       "    <tr>\n",
       "      <th>1</th>\n",
       "      <td>Yes</td>\n",
       "      <td>Yes</td>\n",
       "      <td>60 X 60</td>\n",
       "      <td>5</td>\n",
       "      <td>4</td>\n",
       "      <td>Action Area 3</td>\n",
       "      <td>1.0</td>\n",
       "      <td>60.5</td>\n",
       "      <td>1681</td>\n",
       "      <td>New Property</td>\n",
       "      <td>Residential Land / Plot</td>\n",
       "      <td>1</td>\n",
       "      <td>1</td>\n",
       "      <td>0</td>\n",
       "      <td>8.0</td>\n",
       "      <td>3600</td>\n",
       "    </tr>\n",
       "    <tr>\n",
       "      <th>2</th>\n",
       "      <td>No</td>\n",
       "      <td>No</td>\n",
       "      <td>NaN</td>\n",
       "      <td>19</td>\n",
       "      <td>NaN</td>\n",
       "      <td>Joka</td>\n",
       "      <td>2.0</td>\n",
       "      <td>1.4</td>\n",
       "      <td>194</td>\n",
       "      <td>New Property</td>\n",
       "      <td>Residential Land / Plot</td>\n",
       "      <td>0</td>\n",
       "      <td>1</td>\n",
       "      <td>0</td>\n",
       "      <td>25.0</td>\n",
       "      <td>720</td>\n",
       "    </tr>\n",
       "    <tr>\n",
       "      <th>3</th>\n",
       "      <td>Yes</td>\n",
       "      <td>No</td>\n",
       "      <td>49.2 X 32.8</td>\n",
       "      <td>2</td>\n",
       "      <td>4</td>\n",
       "      <td>Action Area 3</td>\n",
       "      <td>1.0</td>\n",
       "      <td>90.0</td>\n",
       "      <td>5574</td>\n",
       "      <td>Resale</td>\n",
       "      <td>Residential Land / Plot</td>\n",
       "      <td>0</td>\n",
       "      <td>1</td>\n",
       "      <td>0</td>\n",
       "      <td>13.0</td>\n",
       "      <td>1615</td>\n",
       "    </tr>\n",
       "    <tr>\n",
       "      <th>4</th>\n",
       "      <td>No</td>\n",
       "      <td>No</td>\n",
       "      <td>42 X 40</td>\n",
       "      <td>5</td>\n",
       "      <td>Congo</td>\n",
       "      <td>Badu</td>\n",
       "      <td>4.0</td>\n",
       "      <td>9.5</td>\n",
       "      <td>565</td>\n",
       "      <td>Resale</td>\n",
       "      <td>Residential Land / Plot</td>\n",
       "      <td>1</td>\n",
       "      <td>1</td>\n",
       "      <td>0</td>\n",
       "      <td>3.0</td>\n",
       "      <td>1680</td>\n",
       "    </tr>\n",
       "  </tbody>\n",
       "</table>\n",
       "</div>"
      ],
      "text/plain": [
       "  boundary construction   dimensions  fig_count  floor       location  \\\n",
       "0      Yes          Yes      45 X 32         10      5       Rajarhat   \n",
       "1      Yes          Yes      60 X 60          5      4  Action Area 3   \n",
       "2       No           No          NaN         19    NaN           Joka   \n",
       "3      Yes           No  49.2 X 32.8          2      4  Action Area 3   \n",
       "4       No           No      42 X 40          5  Congo           Badu   \n",
       "\n",
       "   open_sides  price  price_per_sqft   transaction                     type  \\\n",
       "0         2.0   23.0            1597  New Property  Residential Land / Plot   \n",
       "1         1.0   60.5            1681  New Property  Residential Land / Plot   \n",
       "2         2.0    1.4             194  New Property  Residential Land / Plot   \n",
       "3         1.0   90.0            5574        Resale  Residential Land / Plot   \n",
       "4         4.0    9.5             565        Resale  Residential Land / Plot   \n",
       "\n",
       "   garden_park  main_road  pool  width_road  area  \n",
       "0            1          1     0        30.0  1440  \n",
       "1            1          1     0         8.0  3600  \n",
       "2            0          1     0        25.0   720  \n",
       "3            0          1     0        13.0  1615  \n",
       "4            1          1     0         3.0  1680  "
      ]
     },
     "execution_count": 2,
     "metadata": {},
     "output_type": "execute_result"
    }
   ],
   "source": [
    "df = pd.read_csv('train.csv')\n",
    "df.head()"
   ]
  },
  {
   "cell_type": "markdown",
   "id": "f92de3a4-59ee-49bf-b187-cee0810140d5",
   "metadata": {
    "jp-MarkdownHeadingCollapsed": true
   },
   "source": [
    "# Initial One-Hot Encoding"
   ]
  },
  {
   "cell_type": "code",
   "execution_count": 3,
   "id": "f6d67352-bf62-41c8-906f-d6bdebd8f5a9",
   "metadata": {},
   "outputs": [],
   "source": [
    "def convert_yes_to_1(x) :\n",
    "    return 1 if x == 'Yes' else 0\n",
    "\n",
    "df['construction'] = df['construction'].apply(convert_yes_to_1)\n",
    "\n",
    "df['boundary'] = df['boundary'].apply(convert_yes_to_1)\n",
    "\n",
    "df['new_property'] = df['transaction'].apply(lambda x : 1 if x == 'New Property' else 0)"
   ]
  },
  {
   "cell_type": "code",
   "execution_count": 4,
   "id": "ab20c38f-b910-49e2-aba2-ad156039815a",
   "metadata": {},
   "outputs": [
    {
     "data": {
      "text/plain": [
       "new_property\n",
       "0    701\n",
       "1    321\n",
       "Name: count, dtype: int64"
      ]
     },
     "execution_count": 4,
     "metadata": {},
     "output_type": "execute_result"
    }
   ],
   "source": [
    "df['new_property'].value_counts()"
   ]
  },
  {
   "cell_type": "code",
   "execution_count": 5,
   "id": "b7a34fa0-ae38-4aa7-a8b3-c4631089a9b2",
   "metadata": {},
   "outputs": [
    {
     "data": {
      "text/plain": [
       "(1022, 12)"
      ]
     },
     "execution_count": 5,
     "metadata": {},
     "output_type": "execute_result"
    }
   ],
   "source": [
    "df = df.drop(['dimensions', 'type', 'transaction', 'price', 'fig_count'], axis=1)\n",
    "\n",
    "df.shape"
   ]
  },
  {
   "cell_type": "markdown",
   "id": "815a4fdf-4dec-4494-8e3c-b023cc42f3ae",
   "metadata": {
    "jp-MarkdownHeadingCollapsed": true
   },
   "source": [
    "# Data Manipulation"
   ]
  },
  {
   "cell_type": "code",
   "execution_count": 6,
   "id": "32f4d57f-4e1c-4374-a3f0-e28c75b22841",
   "metadata": {},
   "outputs": [
    {
     "data": {
      "text/html": [
       "<div>\n",
       "<style scoped>\n",
       "    .dataframe tbody tr th:only-of-type {\n",
       "        vertical-align: middle;\n",
       "    }\n",
       "\n",
       "    .dataframe tbody tr th {\n",
       "        vertical-align: top;\n",
       "    }\n",
       "\n",
       "    .dataframe thead th {\n",
       "        text-align: right;\n",
       "    }\n",
       "</style>\n",
       "<table border=\"1\" class=\"dataframe\">\n",
       "  <thead>\n",
       "    <tr style=\"text-align: right;\">\n",
       "      <th></th>\n",
       "      <th>boundary</th>\n",
       "      <th>construction</th>\n",
       "      <th>floor</th>\n",
       "      <th>location</th>\n",
       "      <th>open_sides</th>\n",
       "      <th>price_per_sqft</th>\n",
       "      <th>garden_park</th>\n",
       "      <th>main_road</th>\n",
       "      <th>pool</th>\n",
       "      <th>width_road</th>\n",
       "      <th>area</th>\n",
       "      <th>new_property</th>\n",
       "    </tr>\n",
       "  </thead>\n",
       "  <tbody>\n",
       "    <tr>\n",
       "      <th>0</th>\n",
       "      <td>1</td>\n",
       "      <td>1</td>\n",
       "      <td>5</td>\n",
       "      <td>Rajarhat</td>\n",
       "      <td>2.0</td>\n",
       "      <td>1597</td>\n",
       "      <td>1</td>\n",
       "      <td>1</td>\n",
       "      <td>0</td>\n",
       "      <td>30.0</td>\n",
       "      <td>1440</td>\n",
       "      <td>1</td>\n",
       "    </tr>\n",
       "    <tr>\n",
       "      <th>1</th>\n",
       "      <td>1</td>\n",
       "      <td>1</td>\n",
       "      <td>4</td>\n",
       "      <td>Action Area 3</td>\n",
       "      <td>1.0</td>\n",
       "      <td>1681</td>\n",
       "      <td>1</td>\n",
       "      <td>1</td>\n",
       "      <td>0</td>\n",
       "      <td>8.0</td>\n",
       "      <td>3600</td>\n",
       "      <td>1</td>\n",
       "    </tr>\n",
       "    <tr>\n",
       "      <th>2</th>\n",
       "      <td>0</td>\n",
       "      <td>0</td>\n",
       "      <td>NaN</td>\n",
       "      <td>Joka</td>\n",
       "      <td>2.0</td>\n",
       "      <td>194</td>\n",
       "      <td>0</td>\n",
       "      <td>1</td>\n",
       "      <td>0</td>\n",
       "      <td>25.0</td>\n",
       "      <td>720</td>\n",
       "      <td>1</td>\n",
       "    </tr>\n",
       "    <tr>\n",
       "      <th>3</th>\n",
       "      <td>1</td>\n",
       "      <td>0</td>\n",
       "      <td>4</td>\n",
       "      <td>Action Area 3</td>\n",
       "      <td>1.0</td>\n",
       "      <td>5574</td>\n",
       "      <td>0</td>\n",
       "      <td>1</td>\n",
       "      <td>0</td>\n",
       "      <td>13.0</td>\n",
       "      <td>1615</td>\n",
       "      <td>0</td>\n",
       "    </tr>\n",
       "    <tr>\n",
       "      <th>4</th>\n",
       "      <td>0</td>\n",
       "      <td>0</td>\n",
       "      <td>Congo</td>\n",
       "      <td>Badu</td>\n",
       "      <td>4.0</td>\n",
       "      <td>565</td>\n",
       "      <td>1</td>\n",
       "      <td>1</td>\n",
       "      <td>0</td>\n",
       "      <td>3.0</td>\n",
       "      <td>1680</td>\n",
       "      <td>0</td>\n",
       "    </tr>\n",
       "  </tbody>\n",
       "</table>\n",
       "</div>"
      ],
      "text/plain": [
       "   boundary  construction  floor       location  open_sides  price_per_sqft  \\\n",
       "0         1             1      5       Rajarhat         2.0            1597   \n",
       "1         1             1      4  Action Area 3         1.0            1681   \n",
       "2         0             0    NaN           Joka         2.0             194   \n",
       "3         1             0      4  Action Area 3         1.0            5574   \n",
       "4         0             0  Congo           Badu         4.0             565   \n",
       "\n",
       "   garden_park  main_road  pool  width_road  area  new_property  \n",
       "0            1          1     0        30.0  1440             1  \n",
       "1            1          1     0         8.0  3600             1  \n",
       "2            0          1     0        25.0   720             1  \n",
       "3            0          1     0        13.0  1615             0  \n",
       "4            1          1     0         3.0  1680             0  "
      ]
     },
     "execution_count": 6,
     "metadata": {},
     "output_type": "execute_result"
    }
   ],
   "source": [
    "df.head()"
   ]
  },
  {
   "cell_type": "code",
   "execution_count": 7,
   "id": "85b4a016-ec17-42fa-9430-4d4a72ba0667",
   "metadata": {},
   "outputs": [
    {
     "data": {
      "text/html": [
       "<div>\n",
       "<style scoped>\n",
       "    .dataframe tbody tr th:only-of-type {\n",
       "        vertical-align: middle;\n",
       "    }\n",
       "\n",
       "    .dataframe tbody tr th {\n",
       "        vertical-align: top;\n",
       "    }\n",
       "\n",
       "    .dataframe thead th {\n",
       "        text-align: right;\n",
       "    }\n",
       "</style>\n",
       "<table border=\"1\" class=\"dataframe\">\n",
       "  <thead>\n",
       "    <tr style=\"text-align: right;\">\n",
       "      <th></th>\n",
       "      <th>boundary</th>\n",
       "      <th>construction</th>\n",
       "      <th>open_sides</th>\n",
       "      <th>price_per_sqft</th>\n",
       "      <th>garden_park</th>\n",
       "      <th>main_road</th>\n",
       "      <th>pool</th>\n",
       "      <th>width_road</th>\n",
       "      <th>area</th>\n",
       "      <th>new_property</th>\n",
       "    </tr>\n",
       "  </thead>\n",
       "  <tbody>\n",
       "    <tr>\n",
       "      <th>count</th>\n",
       "      <td>1022.000000</td>\n",
       "      <td>1022.000000</td>\n",
       "      <td>734.000000</td>\n",
       "      <td>1022.000000</td>\n",
       "      <td>1022.000000</td>\n",
       "      <td>1022.000000</td>\n",
       "      <td>1022.000000</td>\n",
       "      <td>734.000000</td>\n",
       "      <td>1022.000000</td>\n",
       "      <td>1022.00000</td>\n",
       "    </tr>\n",
       "    <tr>\n",
       "      <th>mean</th>\n",
       "      <td>0.521526</td>\n",
       "      <td>0.341487</td>\n",
       "      <td>6.062670</td>\n",
       "      <td>1431.720157</td>\n",
       "      <td>0.261252</td>\n",
       "      <td>0.382583</td>\n",
       "      <td>0.003914</td>\n",
       "      <td>31.441417</td>\n",
       "      <td>5977.372798</td>\n",
       "      <td>0.31409</td>\n",
       "    </tr>\n",
       "    <tr>\n",
       "      <th>std</th>\n",
       "      <td>0.499781</td>\n",
       "      <td>0.474441</td>\n",
       "      <td>110.662972</td>\n",
       "      <td>1145.857797</td>\n",
       "      <td>0.439532</td>\n",
       "      <td>0.486256</td>\n",
       "      <td>0.062469</td>\n",
       "      <td>356.185113</td>\n",
       "      <td>18983.070738</td>\n",
       "      <td>0.46438</td>\n",
       "    </tr>\n",
       "    <tr>\n",
       "      <th>min</th>\n",
       "      <td>0.000000</td>\n",
       "      <td>0.000000</td>\n",
       "      <td>1.000000</td>\n",
       "      <td>77.000000</td>\n",
       "      <td>0.000000</td>\n",
       "      <td>0.000000</td>\n",
       "      <td>0.000000</td>\n",
       "      <td>1.000000</td>\n",
       "      <td>100.000000</td>\n",
       "      <td>0.00000</td>\n",
       "    </tr>\n",
       "    <tr>\n",
       "      <th>25%</th>\n",
       "      <td>0.000000</td>\n",
       "      <td>0.000000</td>\n",
       "      <td>1.000000</td>\n",
       "      <td>530.750000</td>\n",
       "      <td>0.000000</td>\n",
       "      <td>0.000000</td>\n",
       "      <td>0.000000</td>\n",
       "      <td>7.000000</td>\n",
       "      <td>1440.000000</td>\n",
       "      <td>0.00000</td>\n",
       "    </tr>\n",
       "    <tr>\n",
       "      <th>50%</th>\n",
       "      <td>1.000000</td>\n",
       "      <td>0.000000</td>\n",
       "      <td>2.000000</td>\n",
       "      <td>1200.000000</td>\n",
       "      <td>0.000000</td>\n",
       "      <td>0.000000</td>\n",
       "      <td>0.000000</td>\n",
       "      <td>10.000000</td>\n",
       "      <td>1942.500000</td>\n",
       "      <td>0.00000</td>\n",
       "    </tr>\n",
       "    <tr>\n",
       "      <th>75%</th>\n",
       "      <td>1.000000</td>\n",
       "      <td>1.000000</td>\n",
       "      <td>2.000000</td>\n",
       "      <td>1908.000000</td>\n",
       "      <td>1.000000</td>\n",
       "      <td>1.000000</td>\n",
       "      <td>0.000000</td>\n",
       "      <td>15.750000</td>\n",
       "      <td>3600.000000</td>\n",
       "      <td>1.00000</td>\n",
       "    </tr>\n",
       "    <tr>\n",
       "      <th>max</th>\n",
       "      <td>1.000000</td>\n",
       "      <td>1.000000</td>\n",
       "      <td>3000.000000</td>\n",
       "      <td>5864.000000</td>\n",
       "      <td>1.000000</td>\n",
       "      <td>1.000000</td>\n",
       "      <td>1.000000</td>\n",
       "      <td>9144.000000</td>\n",
       "      <td>288000.000000</td>\n",
       "      <td>1.00000</td>\n",
       "    </tr>\n",
       "  </tbody>\n",
       "</table>\n",
       "</div>"
      ],
      "text/plain": [
       "          boundary  construction   open_sides  price_per_sqft  garden_park  \\\n",
       "count  1022.000000   1022.000000   734.000000     1022.000000  1022.000000   \n",
       "mean      0.521526      0.341487     6.062670     1431.720157     0.261252   \n",
       "std       0.499781      0.474441   110.662972     1145.857797     0.439532   \n",
       "min       0.000000      0.000000     1.000000       77.000000     0.000000   \n",
       "25%       0.000000      0.000000     1.000000      530.750000     0.000000   \n",
       "50%       1.000000      0.000000     2.000000     1200.000000     0.000000   \n",
       "75%       1.000000      1.000000     2.000000     1908.000000     1.000000   \n",
       "max       1.000000      1.000000  3000.000000     5864.000000     1.000000   \n",
       "\n",
       "         main_road         pool   width_road           area  new_property  \n",
       "count  1022.000000  1022.000000   734.000000    1022.000000    1022.00000  \n",
       "mean      0.382583     0.003914    31.441417    5977.372798       0.31409  \n",
       "std       0.486256     0.062469   356.185113   18983.070738       0.46438  \n",
       "min       0.000000     0.000000     1.000000     100.000000       0.00000  \n",
       "25%       0.000000     0.000000     7.000000    1440.000000       0.00000  \n",
       "50%       0.000000     0.000000    10.000000    1942.500000       0.00000  \n",
       "75%       1.000000     0.000000    15.750000    3600.000000       1.00000  \n",
       "max       1.000000     1.000000  9144.000000  288000.000000       1.00000  "
      ]
     },
     "execution_count": 7,
     "metadata": {},
     "output_type": "execute_result"
    }
   ],
   "source": [
    "df.describe()"
   ]
  },
  {
   "cell_type": "markdown",
   "id": "31396d94-97b0-4d99-bf95-b6fce2e5b33c",
   "metadata": {
    "jp-MarkdownHeadingCollapsed": true
   },
   "source": [
    "## Floors"
   ]
  },
  {
   "cell_type": "code",
   "execution_count": 8,
   "id": "9ba4c80f-a477-4bfa-8d8b-cd641511f593",
   "metadata": {},
   "outputs": [
    {
     "name": "stdout",
     "output_type": "stream",
     "text": [
      "floor\n",
      "3.0     591\n",
      "4.0     170\n",
      "5.0      94\n",
      "1.0      83\n",
      "2.0      52\n",
      "6.0      17\n",
      "20.0      4\n",
      "10.0      4\n",
      "15.0      2\n",
      "7.0       2\n",
      "12.0      1\n",
      "18.0      1\n",
      "8.0       1\n",
      "Name: count, dtype: int64\n"
     ]
    }
   ],
   "source": [
    "df.loc[df['floor'] == 'Congo', 'floor'] = np.nan\n",
    "df['floor'] = pd.to_numeric(df['floor'], errors='coerce')\n",
    "df['floor'] = df['floor'].fillna(df['floor'].median())\n",
    "\n",
    "print(df['floor'].value_counts(dropna=False))"
   ]
  },
  {
   "cell_type": "markdown",
   "id": "04197d1d-af4d-4f2c-95c0-ab5bed34af61",
   "metadata": {
    "jp-MarkdownHeadingCollapsed": true
   },
   "source": [
    "## Open Sides and Width Roads"
   ]
  },
  {
   "cell_type": "code",
   "execution_count": 9,
   "id": "646c8893-1ff9-4d73-b8cd-245abd5d2125",
   "metadata": {},
   "outputs": [
    {
     "data": {
      "text/plain": [
       "(735, 12)"
      ]
     },
     "execution_count": 9,
     "metadata": {},
     "output_type": "execute_result"
    }
   ],
   "source": [
    "median_main_road_width = df[df['main_road'] == 1]['width_road'].median()\n",
    "median_main_road_open = df[df['main_road'] == 1]['open_sides'].median()\n",
    "\n",
    "df['width_road'] = df['width_road'].fillna(0)\n",
    "df['open_sides'] = df['open_sides'].fillna(0)\n",
    "\n",
    "df.loc[(df['main_road'] == 1) & (df['width_road'] == 0), 'width_road'] = median_main_road_width\n",
    "df.loc[(df['main_road'] == 1) & (df['open_sides'] == 0), 'open_sides'] = median_main_road_open\n",
    "\n",
    "df = df[df['width_road']<=40]\n",
    "df = df[df['width_road']>0]\n",
    "\n",
    "df.shape  "
   ]
  },
  {
   "cell_type": "code",
   "execution_count": 10,
   "id": "18d01758-4765-4224-ae98-c17dfef63979",
   "metadata": {},
   "outputs": [],
   "source": [
    "df['width_open'] = df['width_road'] * df['open_sides']"
   ]
  },
  {
   "cell_type": "code",
   "execution_count": 11,
   "id": "73109039-9122-46b0-9b3d-58f81962f8ae",
   "metadata": {},
   "outputs": [
    {
     "data": {
      "image/png": "[encoded data removed]",
      "text/plain": [
       "<Figure size 640x480 with 2 Axes>"
      ]
     },
     "metadata": {},
     "output_type": "display_data"
    }
   ],
   "source": [
    "fig, (ax1,ax2) = plt.subplots(1,2)\n",
    "\n",
    "ax1.hist(df['width_road'], bins=10)\n",
    "ax2.hist(df['width_open'], bins=10)\n",
    "plt.show()"
   ]
  },
  {
   "cell_type": "markdown",
   "id": "84918ed1-43aa-4481-bf81-211d1e5bed6c",
   "metadata": {
    "jp-MarkdownHeadingCollapsed": true
   },
   "source": [
    "## Area"
   ]
  },
  {
   "cell_type": "code",
   "execution_count": 12,
   "id": "71f43bc9-fbb6-40be-a550-b18e1bc803f3",
   "metadata": {},
   "outputs": [
    {
     "data": {
      "text/plain": [
       "(726, 13)"
      ]
     },
     "execution_count": 12,
     "metadata": {},
     "output_type": "execute_result"
    }
   ],
   "source": [
    "df = df[df['area'] <= 50000]\n",
    "\n",
    "df.shape"
   ]
  },
  {
   "cell_type": "markdown",
   "id": "dea79197-0a61-4a09-a22a-5bd74528243f",
   "metadata": {
    "jp-MarkdownHeadingCollapsed": true
   },
   "source": [
    "## Adding Features"
   ]
  },
  {
   "cell_type": "code",
   "execution_count": 13,
   "id": "b58a1478-984a-4076-8433-094b434cf486",
   "metadata": {},
   "outputs": [],
   "source": [
    "## Adding Features\n",
    "\n",
    "df['floor_by_area'] = df['floor'] * 100 / df['area']\n",
    "df['floor_by_width'] = df['floor'] / df['width_road']"
   ]
  },
  {
   "cell_type": "markdown",
   "id": "c9a45cc2-80de-4158-96c8-aa0d0e5d5be9",
   "metadata": {},
   "source": [
    "# Normalization"
   ]
  },
  {
   "cell_type": "code",
   "execution_count": 14,
   "id": "7b30a467-977a-4f36-9f09-48c54b46a7ca",
   "metadata": {},
   "outputs": [
    {
     "data": {
      "text/html": [
       "<div>\n",
       "<style scoped>\n",
       "    .dataframe tbody tr th:only-of-type {\n",
       "        vertical-align: middle;\n",
       "    }\n",
       "\n",
       "    .dataframe tbody tr th {\n",
       "        vertical-align: top;\n",
       "    }\n",
       "\n",
       "    .dataframe thead th {\n",
       "        text-align: right;\n",
       "    }\n",
       "</style>\n",
       "<table border=\"1\" class=\"dataframe\">\n",
       "  <thead>\n",
       "    <tr style=\"text-align: right;\">\n",
       "      <th></th>\n",
       "      <th>boundary</th>\n",
       "      <th>construction</th>\n",
       "      <th>floor</th>\n",
       "      <th>open_sides</th>\n",
       "      <th>price_per_sqft</th>\n",
       "      <th>garden_park</th>\n",
       "      <th>main_road</th>\n",
       "      <th>pool</th>\n",
       "      <th>width_road</th>\n",
       "      <th>area</th>\n",
       "      <th>new_property</th>\n",
       "      <th>width_open</th>\n",
       "      <th>floor_by_area</th>\n",
       "      <th>floor_by_width</th>\n",
       "    </tr>\n",
       "  </thead>\n",
       "  <tbody>\n",
       "    <tr>\n",
       "      <th>count</th>\n",
       "      <td>726.000000</td>\n",
       "      <td>726.000000</td>\n",
       "      <td>726.000000</td>\n",
       "      <td>726.000000</td>\n",
       "      <td>726.000000</td>\n",
       "      <td>726.000000</td>\n",
       "      <td>726.000000</td>\n",
       "      <td>726.000000</td>\n",
       "      <td>726.000000</td>\n",
       "      <td>726.000000</td>\n",
       "      <td>726.000000</td>\n",
       "      <td>726.000000</td>\n",
       "      <td>726.000000</td>\n",
       "      <td>726.000000</td>\n",
       "    </tr>\n",
       "    <tr>\n",
       "      <th>mean</th>\n",
       "      <td>0.506887</td>\n",
       "      <td>0.392562</td>\n",
       "      <td>3.315427</td>\n",
       "      <td>1.961433</td>\n",
       "      <td>1374.998623</td>\n",
       "      <td>0.356749</td>\n",
       "      <td>0.517906</td>\n",
       "      <td>0.002755</td>\n",
       "      <td>11.617080</td>\n",
       "      <td>3426.041322</td>\n",
       "      <td>0.420110</td>\n",
       "      <td>22.382920</td>\n",
       "      <td>0.202670</td>\n",
       "      <td>0.419054</td>\n",
       "    </tr>\n",
       "    <tr>\n",
       "      <th>std</th>\n",
       "      <td>0.500297</td>\n",
       "      <td>0.488657</td>\n",
       "      <td>1.511687</td>\n",
       "      <td>0.914949</td>\n",
       "      <td>1195.682081</td>\n",
       "      <td>0.479370</td>\n",
       "      <td>0.500024</td>\n",
       "      <td>0.052450</td>\n",
       "      <td>7.461307</td>\n",
       "      <td>5698.059865</td>\n",
       "      <td>0.493917</td>\n",
       "      <td>17.710295</td>\n",
       "      <td>0.170769</td>\n",
       "      <td>0.358818</td>\n",
       "    </tr>\n",
       "    <tr>\n",
       "      <th>min</th>\n",
       "      <td>0.000000</td>\n",
       "      <td>0.000000</td>\n",
       "      <td>1.000000</td>\n",
       "      <td>1.000000</td>\n",
       "      <td>77.000000</td>\n",
       "      <td>0.000000</td>\n",
       "      <td>0.000000</td>\n",
       "      <td>0.000000</td>\n",
       "      <td>1.000000</td>\n",
       "      <td>100.000000</td>\n",
       "      <td>0.000000</td>\n",
       "      <td>1.000000</td>\n",
       "      <td>0.002449</td>\n",
       "      <td>0.025000</td>\n",
       "    </tr>\n",
       "    <tr>\n",
       "      <th>25%</th>\n",
       "      <td>0.000000</td>\n",
       "      <td>0.000000</td>\n",
       "      <td>3.000000</td>\n",
       "      <td>1.000000</td>\n",
       "      <td>417.000000</td>\n",
       "      <td>0.000000</td>\n",
       "      <td>0.000000</td>\n",
       "      <td>0.000000</td>\n",
       "      <td>7.000000</td>\n",
       "      <td>1440.000000</td>\n",
       "      <td>0.000000</td>\n",
       "      <td>10.000000</td>\n",
       "      <td>0.111111</td>\n",
       "      <td>0.200000</td>\n",
       "    </tr>\n",
       "    <tr>\n",
       "      <th>50%</th>\n",
       "      <td>1.000000</td>\n",
       "      <td>0.000000</td>\n",
       "      <td>3.000000</td>\n",
       "      <td>2.000000</td>\n",
       "      <td>1098.500000</td>\n",
       "      <td>0.000000</td>\n",
       "      <td>1.000000</td>\n",
       "      <td>0.000000</td>\n",
       "      <td>10.000000</td>\n",
       "      <td>1800.000000</td>\n",
       "      <td>0.000000</td>\n",
       "      <td>20.000000</td>\n",
       "      <td>0.174525</td>\n",
       "      <td>0.300000</td>\n",
       "    </tr>\n",
       "    <tr>\n",
       "      <th>75%</th>\n",
       "      <td>1.000000</td>\n",
       "      <td>1.000000</td>\n",
       "      <td>4.000000</td>\n",
       "      <td>2.000000</td>\n",
       "      <td>1806.000000</td>\n",
       "      <td>1.000000</td>\n",
       "      <td>1.000000</td>\n",
       "      <td>0.000000</td>\n",
       "      <td>15.000000</td>\n",
       "      <td>2880.000000</td>\n",
       "      <td>1.000000</td>\n",
       "      <td>30.000000</td>\n",
       "      <td>0.272727</td>\n",
       "      <td>0.500000</td>\n",
       "    </tr>\n",
       "    <tr>\n",
       "      <th>max</th>\n",
       "      <td>1.000000</td>\n",
       "      <td>1.000000</td>\n",
       "      <td>20.000000</td>\n",
       "      <td>4.000000</td>\n",
       "      <td>5864.000000</td>\n",
       "      <td>1.000000</td>\n",
       "      <td>1.000000</td>\n",
       "      <td>1.000000</td>\n",
       "      <td>40.000000</td>\n",
       "      <td>43560.000000</td>\n",
       "      <td>1.000000</td>\n",
       "      <td>105.000000</td>\n",
       "      <td>3.000000</td>\n",
       "      <td>3.000000</td>\n",
       "    </tr>\n",
       "  </tbody>\n",
       "</table>\n",
       "</div>"
      ],
      "text/plain": [
       "         boundary  construction       floor  open_sides  price_per_sqft  \\\n",
       "count  726.000000    726.000000  726.000000  726.000000      726.000000   \n",
       "mean     0.506887      0.392562    3.315427    1.961433     1374.998623   \n",
       "std      0.500297      0.488657    1.511687    0.914949     1195.682081   \n",
       "min      0.000000      0.000000    1.000000    1.000000       77.000000   \n",
       "25%      0.000000      0.000000    3.000000    1.000000      417.000000   \n",
       "50%      1.000000      0.000000    3.000000    2.000000     1098.500000   \n",
       "75%      1.000000      1.000000    4.000000    2.000000     1806.000000   \n",
       "max      1.000000      1.000000   20.000000    4.000000     5864.000000   \n",
       "\n",
       "       garden_park   main_road        pool  width_road          area  \\\n",
       "count   726.000000  726.000000  726.000000  726.000000    726.000000   \n",
       "mean      0.356749    0.517906    0.002755   11.617080   3426.041322   \n",
       "std       0.479370    0.500024    0.052450    7.461307   5698.059865   \n",
       "min       0.000000    0.000000    0.000000    1.000000    100.000000   \n",
       "25%       0.000000    0.000000    0.000000    7.000000   1440.000000   \n",
       "50%       0.000000    1.000000    0.000000   10.000000   1800.000000   \n",
       "75%       1.000000    1.000000    0.000000   15.000000   2880.000000   \n",
       "max       1.000000    1.000000    1.000000   40.000000  43560.000000   \n",
       "\n",
       "       new_property  width_open  floor_by_area  floor_by_width  \n",
       "count    726.000000  726.000000     726.000000      726.000000  \n",
       "mean       0.420110   22.382920       0.202670        0.419054  \n",
       "std        0.493917   17.710295       0.170769        0.358818  \n",
       "min        0.000000    1.000000       0.002449        0.025000  \n",
       "25%        0.000000   10.000000       0.111111        0.200000  \n",
       "50%        0.000000   20.000000       0.174525        0.300000  \n",
       "75%        1.000000   30.000000       0.272727        0.500000  \n",
       "max        1.000000  105.000000       3.000000        3.000000  "
      ]
     },
     "execution_count": 14,
     "metadata": {},
     "output_type": "execute_result"
    }
   ],
   "source": [
    "df.describe()"
   ]
  },
  {
   "cell_type": "markdown",
   "id": "6664e8b2-ba14-41dd-b451-4811e39f7945",
   "metadata": {},
   "source": [
    "## Area"
   ]
  },
  {
   "cell_type": "code",
   "execution_count": 15,
   "id": "3f0601c9-60b4-4eb4-ae1d-f9eceb232989",
   "metadata": {},
   "outputs": [
    {
     "name": "stdout",
     "output_type": "stream",
     "text": [
      "Mean: 7.652456222450403 , std_dev: 0.8221394216377748\n"
     ]
    },
    {
     "data": {
      "image/png": "[encoded data removed]",
      "text/plain": [
       "<Figure size 640x480 with 1 Axes>"
      ]
     },
     "metadata": {},
     "output_type": "display_data"
    }
   ],
   "source": [
    "df = df[df['area'] > 600]\n",
    "\n",
    "df['area'] = np.log(df['area'])\n",
    "\n",
    "mean = df['area'].mean()\n",
    "std_dev = df['area'].std()\n",
    "\n",
    "print(f'Mean: {mean} , std_dev: {std_dev}')\n",
    "\n",
    "df['area'] = (df['area']-mean)/std_dev\n",
    "plt.hist(df['area'], bins=10)\n",
    "plt.show()"
   ]
  },
  {
   "cell_type": "markdown",
   "id": "d2ea70a8-4382-4a1d-9a03-d6f2f92da3de",
   "metadata": {},
   "source": [
    "## Width Road"
   ]
  },
  {
   "cell_type": "code",
   "execution_count": 16,
   "id": "958d77f2-0fe9-44c8-a3e4-abd3b230936b",
   "metadata": {},
   "outputs": [
    {
     "name": "stdout",
     "output_type": "stream",
     "text": [
      "Mean: 2.250238284146862 , std_dev: 0.6616294390712966\n"
     ]
    },
    {
     "data": {
      "image/png": "[encoded data removed]",
      "text/plain": [
       "<Figure size 640x480 with 1 Axes>"
      ]
     },
     "metadata": {},
     "output_type": "display_data"
    }
   ],
   "source": [
    "width_log = np.log(df['width_road']+0.01)\n",
    "\n",
    "mean = width_log.mean()\n",
    "std_dev = width_log.std()\n",
    "\n",
    "print(f'Mean: {mean} , std_dev: {std_dev}')\n",
    "\n",
    "width_norm = (width_log - mean)/std_dev\n",
    "\n",
    "df['width_road'] = width_norm\n",
    "plt.hist(width_norm, bins=10)\n",
    "plt.show()"
   ]
  },
  {
   "cell_type": "markdown",
   "id": "efe57fb0-d7f5-4e14-bfe3-eb991b9cb94b",
   "metadata": {},
   "source": [
    "## Open Sides x Width"
   ]
  },
  {
   "cell_type": "code",
   "execution_count": 17,
   "id": "f472a776-3a66-4f22-b62a-99565d330ae0",
   "metadata": {},
   "outputs": [
    {
     "name": "stdout",
     "output_type": "stream",
     "text": [
      "Mean: 2.8180932169586836 , std_dev: 0.7954702674245552\n"
     ]
    },
    {
     "data": {
      "image/png": "[encoded data removed]",
      "text/plain": [
       "<Figure size 640x480 with 1 Axes>"
      ]
     },
     "metadata": {},
     "output_type": "display_data"
    }
   ],
   "source": [
    "df['width_open'] = np.log(df['width_open'])\n",
    "\n",
    "mean = df['width_open'].mean()\n",
    "std_dev = df['width_open'].std()\n",
    "\n",
    "print(f'Mean: {mean} , std_dev: {std_dev}')\n",
    "\n",
    "df['width_open'] = (df['width_open']-mean)/std_dev\n",
    "plt.hist(df['width_open'], bins=10)\n",
    "plt.show()"
   ]
  },
  {
   "cell_type": "markdown",
   "id": "b0b6a133-c73d-44af-bf13-a589d6c2a68b",
   "metadata": {},
   "source": [
    "## Additional Features"
   ]
  },
  {
   "cell_type": "code",
   "execution_count": 18,
   "id": "95a65bce-ce81-47a0-a19d-d51c1bc0916b",
   "metadata": {},
   "outputs": [
    {
     "name": "stdout",
     "output_type": "stream",
     "text": [
      "Mean: -1.9187939331933004 , std_dev: 0.9169052779150308\n",
      "Mean: -1.1204044099254058 , std_dev: 0.6956414037035519\n"
     ]
    },
    {
     "data": {
      "image/png": "[encoded data removed]",
      "text/plain": [
       "<Figure size 1200x400 with 2 Axes>"
      ]
     },
     "metadata": {},
     "output_type": "display_data"
    }
   ],
   "source": [
    "fig , (ax1, ax2) = plt.subplots(1,2, figsize = (12,4))\n",
    "\n",
    "df['floor_by_area'] = np.log(df['floor_by_area'])\n",
    "\n",
    "mean = df['floor_by_area'].mean()\n",
    "std_dev = df['floor_by_area'].std()\n",
    "\n",
    "print(f'Mean: {mean} , std_dev: {std_dev}')\n",
    "\n",
    "df['floor_by_area'] = (df['floor_by_area']-mean)/std_dev\n",
    "ax1.hist(df['floor_by_area'], bins=10)\n",
    "\n",
    "df['floor_by_width'] = np.log(df['floor_by_width'])\n",
    "\n",
    "mean = df['floor_by_width'].mean()\n",
    "std_dev = df['floor_by_width'].std()\n",
    "\n",
    "print(f'Mean: {mean} , std_dev: {std_dev}')\n",
    "\n",
    "df['floor_by_width'] = (df['floor_by_width']-mean)/std_dev\n",
    "ax2.hist(df['floor_by_width'], bins=10)\n",
    "plt.show()"
   ]
  },
  {
   "cell_type": "markdown",
   "id": "dfe6cb90-6b0c-4991-a10e-979403b3bbbe",
   "metadata": {
    "jp-MarkdownHeadingCollapsed": true
   },
   "source": [
    "# Show Relationships"
   ]
  },
  {
   "cell_type": "code",
   "execution_count": 19,
   "id": "604f60f0-4975-466b-8dd3-2307dfac7937",
   "metadata": {},
   "outputs": [
    {
     "data": {
      "text/plain": [
       "Text(0.5, 1.0, 'Floor/Width')"
      ]
     },
     "execution_count": 19,
     "metadata": {},
     "output_type": "execute_result"
    },
    {
     "data": {
      "image/png": "[encoded data removed]",
      "text/plain": [
       "<Figure size 1600x400 with 4 Axes>"
      ]
     },
     "metadata": {},
     "output_type": "display_data"
    }
   ],
   "source": [
    "fig, (ax1, ax2, ax3, ax4) = plt.subplots(1,4, figsize=(16,4))\n",
    "ax1.scatter(df['area'], df['price_per_sqft'])\n",
    "ax1.set_title('Area')\n",
    "ax2.scatter(df['width_open'], df['price_per_sqft'])\n",
    "ax2.set_title('Width x Open')\n",
    "ax3.scatter(df['floor_by_area'], df['price_per_sqft'])\n",
    "ax3.set_title('Floor/Area')\n",
    "ax4.scatter(df['floor_by_width'], df['price_per_sqft'])\n",
    "ax4.set_title('Floor/Width')"
   ]
  },
  {
   "cell_type": "markdown",
   "id": "c3edf0ae-5fb7-43c1-828c-03fdef83111a",
   "metadata": {},
   "source": [
    "# Location Dummies"
   ]
  },
  {
   "cell_type": "code",
   "execution_count": 20,
   "id": "c12197b3-6615-49c5-8c1e-ac49cd1defb3",
   "metadata": {},
   "outputs": [
    {
     "data": {
      "text/plain": [
       "(724, 192)"
      ]
     },
     "execution_count": 20,
     "metadata": {},
     "output_type": "execute_result"
    }
   ],
   "source": [
    "location_dummy = df['location'].str.get_dummies(sep=', ').astype(float)\n",
    "# location_sums = location_dummy.sum()\n",
    "\n",
    "# location_dummy.to_csv('locations.csv', index=False)\n",
    "df = pd.concat([df, location_dummy], axis=1)\n",
    "\n",
    "df = df.drop(['location'], axis=1)\n",
    "df.shape"
   ]
  },
  {
   "cell_type": "code",
   "execution_count": 21,
   "id": "2a21056d-866b-4025-b196-3c0c9aed2b68",
   "metadata": {},
   "outputs": [
    {
     "data": {
      "text/html": [
       "<div>\n",
       "<style scoped>\n",
       "    .dataframe tbody tr th:only-of-type {\n",
       "        vertical-align: middle;\n",
       "    }\n",
       "\n",
       "    .dataframe tbody tr th {\n",
       "        vertical-align: top;\n",
       "    }\n",
       "\n",
       "    .dataframe thead th {\n",
       "        text-align: right;\n",
       "    }\n",
       "</style>\n",
       "<table border=\"1\" class=\"dataframe\">\n",
       "  <thead>\n",
       "    <tr style=\"text-align: right;\">\n",
       "      <th></th>\n",
       "      <th>boundary</th>\n",
       "      <th>construction</th>\n",
       "      <th>floor</th>\n",
       "      <th>open_sides</th>\n",
       "      <th>price_per_sqft</th>\n",
       "      <th>garden_park</th>\n",
       "      <th>main_road</th>\n",
       "      <th>pool</th>\n",
       "      <th>width_road</th>\n",
       "      <th>area</th>\n",
       "      <th>...</th>\n",
       "      <th>Subhayan Park</th>\n",
       "      <th>Taltala</th>\n",
       "      <th>Tangra</th>\n",
       "      <th>Thakurpukur</th>\n",
       "      <th>Tollygunge</th>\n",
       "      <th>Tollygunge Phari</th>\n",
       "      <th>Tribeni</th>\n",
       "      <th>Uchhepota</th>\n",
       "      <th>Uttarpara</th>\n",
       "      <th>Uttarpara Kotrung</th>\n",
       "    </tr>\n",
       "  </thead>\n",
       "  <tbody>\n",
       "    <tr>\n",
       "      <th>0</th>\n",
       "      <td>1</td>\n",
       "      <td>1</td>\n",
       "      <td>5.0</td>\n",
       "      <td>2.0</td>\n",
       "      <td>1597</td>\n",
       "      <td>1</td>\n",
       "      <td>1</td>\n",
       "      <td>0</td>\n",
       "      <td>1.740086</td>\n",
       "      <td>-0.462279</td>\n",
       "      <td>...</td>\n",
       "      <td>0.0</td>\n",
       "      <td>0.0</td>\n",
       "      <td>0.0</td>\n",
       "      <td>0.0</td>\n",
       "      <td>0.0</td>\n",
       "      <td>0.0</td>\n",
       "      <td>0.0</td>\n",
       "      <td>0.0</td>\n",
       "      <td>0.0</td>\n",
       "      <td>0.0</td>\n",
       "    </tr>\n",
       "    <tr>\n",
       "      <th>1</th>\n",
       "      <td>1</td>\n",
       "      <td>1</td>\n",
       "      <td>4.0</td>\n",
       "      <td>1.0</td>\n",
       "      <td>1681</td>\n",
       "      <td>1</td>\n",
       "      <td>1</td>\n",
       "      <td>0</td>\n",
       "      <td>-0.256258</td>\n",
       "      <td>0.652241</td>\n",
       "      <td>...</td>\n",
       "      <td>0.0</td>\n",
       "      <td>0.0</td>\n",
       "      <td>0.0</td>\n",
       "      <td>0.0</td>\n",
       "      <td>0.0</td>\n",
       "      <td>0.0</td>\n",
       "      <td>0.0</td>\n",
       "      <td>0.0</td>\n",
       "      <td>0.0</td>\n",
       "      <td>0.0</td>\n",
       "    </tr>\n",
       "    <tr>\n",
       "      <th>2</th>\n",
       "      <td>0</td>\n",
       "      <td>0</td>\n",
       "      <td>3.0</td>\n",
       "      <td>2.0</td>\n",
       "      <td>194</td>\n",
       "      <td>0</td>\n",
       "      <td>1</td>\n",
       "      <td>0</td>\n",
       "      <td>1.464623</td>\n",
       "      <td>-1.305381</td>\n",
       "      <td>...</td>\n",
       "      <td>0.0</td>\n",
       "      <td>0.0</td>\n",
       "      <td>0.0</td>\n",
       "      <td>0.0</td>\n",
       "      <td>0.0</td>\n",
       "      <td>0.0</td>\n",
       "      <td>0.0</td>\n",
       "      <td>0.0</td>\n",
       "      <td>0.0</td>\n",
       "      <td>0.0</td>\n",
       "    </tr>\n",
       "    <tr>\n",
       "      <th>3</th>\n",
       "      <td>1</td>\n",
       "      <td>0</td>\n",
       "      <td>4.0</td>\n",
       "      <td>1.0</td>\n",
       "      <td>5574</td>\n",
       "      <td>0</td>\n",
       "      <td>1</td>\n",
       "      <td>0</td>\n",
       "      <td>0.476823</td>\n",
       "      <td>-0.322775</td>\n",
       "      <td>...</td>\n",
       "      <td>0.0</td>\n",
       "      <td>0.0</td>\n",
       "      <td>0.0</td>\n",
       "      <td>0.0</td>\n",
       "      <td>0.0</td>\n",
       "      <td>0.0</td>\n",
       "      <td>0.0</td>\n",
       "      <td>0.0</td>\n",
       "      <td>0.0</td>\n",
       "      <td>0.0</td>\n",
       "    </tr>\n",
       "    <tr>\n",
       "      <th>4</th>\n",
       "      <td>0</td>\n",
       "      <td>0</td>\n",
       "      <td>3.0</td>\n",
       "      <td>4.0</td>\n",
       "      <td>565</td>\n",
       "      <td>1</td>\n",
       "      <td>1</td>\n",
       "      <td>0</td>\n",
       "      <td>-1.735561</td>\n",
       "      <td>-0.274780</td>\n",
       "      <td>...</td>\n",
       "      <td>0.0</td>\n",
       "      <td>0.0</td>\n",
       "      <td>0.0</td>\n",
       "      <td>0.0</td>\n",
       "      <td>0.0</td>\n",
       "      <td>0.0</td>\n",
       "      <td>0.0</td>\n",
       "      <td>0.0</td>\n",
       "      <td>0.0</td>\n",
       "      <td>0.0</td>\n",
       "    </tr>\n",
       "  </tbody>\n",
       "</table>\n",
       "<p>5 rows × 192 columns</p>\n",
       "</div>"
      ],
      "text/plain": [
       "   boundary  construction  floor  open_sides  price_per_sqft  garden_park  \\\n",
       "0         1             1    5.0         2.0            1597            1   \n",
       "1         1             1    4.0         1.0            1681            1   \n",
       "2         0             0    3.0         2.0             194            0   \n",
       "3         1             0    4.0         1.0            5574            0   \n",
       "4         0             0    3.0         4.0             565            1   \n",
       "\n",
       "   main_road  pool  width_road      area  ...  Subhayan Park  Taltala  Tangra  \\\n",
       "0          1     0    1.740086 -0.462279  ...            0.0      0.0     0.0   \n",
       "1          1     0   -0.256258  0.652241  ...            0.0      0.0     0.0   \n",
       "2          1     0    1.464623 -1.305381  ...            0.0      0.0     0.0   \n",
       "3          1     0    0.476823 -0.322775  ...            0.0      0.0     0.0   \n",
       "4          1     0   -1.735561 -0.274780  ...            0.0      0.0     0.0   \n",
       "\n",
       "   Thakurpukur  Tollygunge  Tollygunge Phari  Tribeni  Uchhepota  Uttarpara  \\\n",
       "0          0.0         0.0               0.0      0.0        0.0        0.0   \n",
       "1          0.0         0.0               0.0      0.0        0.0        0.0   \n",
       "2          0.0         0.0               0.0      0.0        0.0        0.0   \n",
       "3          0.0         0.0               0.0      0.0        0.0        0.0   \n",
       "4          0.0         0.0               0.0      0.0        0.0        0.0   \n",
       "\n",
       "   Uttarpara Kotrung  \n",
       "0                0.0  \n",
       "1                0.0  \n",
       "2                0.0  \n",
       "3                0.0  \n",
       "4                0.0  \n",
       "\n",
       "[5 rows x 192 columns]"
      ]
     },
     "execution_count": 21,
     "metadata": {},
     "output_type": "execute_result"
    }
   ],
   "source": [
    "df.head()"
   ]
  },
  {
   "cell_type": "markdown",
   "id": "caad84f5-046f-4c75-8b88-95ce02118a79",
   "metadata": {},
   "source": [
    "# Training Models"
   ]
  },
  {
   "cell_type": "code",
   "execution_count": 22,
   "id": "35ad49f4-9f82-4957-b6ba-1264167b6765",
   "metadata": {},
   "outputs": [],
   "source": [
    "def compare_pred(ax, model, X, y, to_display=20) :\n",
    "    y_hat = model.predict(X).flatten()\n",
    "    pred = pd.DataFrame({'Prediction': y_hat})\n",
    "    \n",
    "    comparison = pd.concat([pred, y], axis=1)\n",
    "\n",
    "    X = X[:to_display]\n",
    "    pred = pred[:to_display]\n",
    "    y = y[:to_display]\n",
    "\n",
    "    ax.scatter(range(len(X)), pred, color='blue', label='Predictions')\n",
    "    ax.scatter(range(len(X)), y, color='orange', label='Actual')\n",
    "\n",
    "    ax.set_ylabel('Values')\n",
    "    ax.set_xlabel('Index')\n",
    "    ax.set_title('Comparison of Prediction and Actual')\n",
    "    ax.grid(True)\n",
    "    ax.legend()\n",
    "    \n",
    "    # comparison.plot(marker='o')\n",
    "\n",
    "    return comparison"
   ]
  },
  {
   "cell_type": "code",
   "execution_count": 23,
   "id": "7f1a3ab1-d65e-4a48-983b-7435810258ff",
   "metadata": {},
   "outputs": [
    {
     "data": {
      "text/plain": [
       "((724, 191), (724,))"
      ]
     },
     "execution_count": 23,
     "metadata": {},
     "output_type": "execute_result"
    }
   ],
   "source": [
    "X_train = df.drop(['price_per_sqft'], axis=1)\n",
    "y_train = df['price_per_sqft']\n",
    "\n",
    "X_train.shape, y_train.shape"
   ]
  },
  {
   "cell_type": "markdown",
   "id": "c3b4923c-4878-461b-a708-01e3a7da1509",
   "metadata": {},
   "source": [
    "## Linear Regression"
   ]
  },
  {
   "cell_type": "code",
   "execution_count": 24,
   "id": "a4069e84-e163-4ac4-b7a4-a0056085811a",
   "metadata": {},
   "outputs": [
    {
     "name": "stdout",
     "output_type": "stream",
     "text": [
      "Iteration 3000, Loss: 586884.9918885954\n",
      "Iteration 6000, Loss: 567595.2530318077\n",
      "Iteration 9000, Loss: 564095.7714626824\n",
      "Iteration 12000, Loss: 560854.6640715117\n",
      "Iteration 15000, Loss: 560188.0432041517\n",
      "Iteration 18000, Loss: 559672.7993357757\n",
      "Iteration 21000, Loss: 559201.3649168969\n",
      "Iteration 24000, Loss: 559029.072428661\n",
      "Iteration 27000, Loss: 558910.0057644347\n",
      "Iteration 30000, Loss: 559466.4715477764\n"
     ]
    },
    {
     "data": {
      "image/png": "[encoded data removed]",
      "text/plain": [
       "<Figure size 1200x400 with 2 Axes>"
      ]
     },
     "metadata": {},
     "output_type": "display_data"
    }
   ],
   "source": [
    "iterations = 30000  # Number of iterations\n",
    "model = SGDRegressor(alpha=0.000000001, max_iter=iterations, warm_start = True)\n",
    "\n",
    "# Training loop to record loss every 100 iterations\n",
    "history = {'iteration': [], 'loss': []}\n",
    "for i in range(1, iterations + 1):\n",
    "    model.partial_fit(X_train, y_train)\n",
    "    if i % (iterations//10) == 0:\n",
    "        loss = np.mean((model.predict(X_train) - y_train) ** 2)\n",
    "        history['iteration'].append(i)\n",
    "        history['loss'].append(loss)\n",
    "        print(f\"Iteration {i}, Loss: {loss}\")\n",
    "\n",
    "# model.fit(X_train, y_train)\n",
    "\n",
    "# Accessing the coefficients and intercept\n",
    "coefficients = model.coef_\n",
    "intercept = model.intercept_\n",
    "\n",
    "fig, (ax1, ax2) = plt.subplots(1,2, figsize=(12, 4))\n",
    "\n",
    "ax1.plot(history['iteration'], history['loss'])\n",
    "                               \n",
    "comparison = compare_pred(ax2, model, X_train, y_train, 40)\n",
    "\n",
    "plt.show()\n"
   ]
  },
  {
   "cell_type": "code",
   "execution_count": 25,
   "id": "34204c30-790b-4c40-9af0-32485c10429c",
   "metadata": {},
   "outputs": [
    {
     "data": {
      "image/png": "[encoded data removed]",
      "text/plain": [
       "<Figure size 800x400 with 1 Axes>"
      ]
     },
     "metadata": {},
     "output_type": "display_data"
    }
   ],
   "source": [
    "model = LinearRegression()\n",
    "model.fit(X_train, y_train)\n",
    "\n",
    "fig, ax = plt.subplots(1,1, figsize=(8, 4))\n",
    "                               \n",
    "comparison = compare_pred(ax, model, X_train, y_train, 40)\n",
    "plt.show()"
   ]
  },
  {
   "cell_type": "markdown",
   "id": "8995ac00-d126-4d78-a0fd-60da880a27be",
   "metadata": {},
   "source": [
    "## Neural Network"
   ]
  },
  {
   "cell_type": "code",
   "execution_count": 26,
   "id": "3578eb9f-fb35-441b-a744-854f67299d7e",
   "metadata": {},
   "outputs": [
    {
     "name": "stdout",
     "output_type": "stream",
     "text": [
      "\u001b[1m23/23\u001b[0m \u001b[32m━━━━━━━━━━━━━━━━━━━━\u001b[0m\u001b[37m\u001b[0m \u001b[1m0s\u001b[0m 2ms/step \n"
     ]
    },
    {
     "data": {
      "image/png": "[encoded data removed]",
      "text/plain": [
       "<Figure size 1200x400 with 2 Axes>"
      ]
     },
     "metadata": {},
     "output_type": "display_data"
    },
    {
     "name": "stdout",
     "output_type": "stream",
     "text": [
      "Cost: 513570.8125\n",
      "Slope: 0.020961463\n",
      "Intercept: 0.16541332\n"
     ]
    }
   ],
   "source": [
    "# Define the linear regression model using TensorFlow\n",
    "model = Sequential([\n",
    "    Dense(units=288, activation='relu'),\n",
    "    Dense(units=64, activation='relu'),\n",
    "    Dense(units=32, activation='relu'),\n",
    "    Dense(units=1, activation='linear')\n",
    "])\n",
    "\n",
    "# Compile the model\n",
    "model.compile(optimizer=Adam(), loss=MeanSquaredError(), metrics=['mae'])\n",
    "\n",
    "# X_tensor = tf.constant(X_train.values, dtype=tf.float32)\n",
    "# y_tensor = tf.constant(y_train.values, dtype=tf.float32)\n",
    "\n",
    "# Train the model\n",
    "history = model.fit(X_train, y_train, epochs=50, verbose=0)\n",
    "\n",
    "fig, (ax1, ax2) = plt.subplots(1,2, figsize=(12, 4))\n",
    "\n",
    "# Plot the training history\n",
    "ax1.plot(history.history['loss'])\n",
    "ax1.set_xlabel('Epoch')\n",
    "ax1.set_ylabel('Loss')\n",
    "ax1.set_title('Training Loss')\n",
    "\n",
    "comparison = compare_pred(ax2, model, X_train, y_train, 40)\n",
    "plt.show()\n",
    "\n",
    "print('Cost:', history.history['loss'][-1])\n",
    "\n",
    "# Get the trained weights (slope and intercept)\n",
    "slope, intercept = model.layers[0].get_weights()\n",
    "print(\"Slope:\", slope[0, 0])\n",
    "print(\"Intercept:\", intercept[0])"
   ]
  },
  {
   "cell_type": "markdown",
   "id": "9de92b02-34c8-4562-b615-4ba968828adb",
   "metadata": {},
   "source": [
    "# Get Predictions"
   ]
  },
  {
   "cell_type": "code",
   "execution_count": 27,
   "id": "e5314dec-91de-4b6a-a905-77e444f9b22e",
   "metadata": {},
   "outputs": [],
   "source": [
    "def get_predictions(data: dict) :\n",
    "    \n",
    "    X = np.zeros(len(X_train.columns))\n",
    "    \n",
    "    X[0] = data.get('boundary', 0)\n",
    "    X[1] = data.get('construction', 0)\n",
    "    X[2] = data.get('floor', 2)\n",
    "    X[3] = data.get('open_sides', 2)\n",
    "    X[4] = data.get('garden_park', 0)\n",
    "    X[5] = data.get('main_road', 0)\n",
    "    X[6] = data.get('pool', 0)\n",
    "    X[7] = data.get('width_road', 10)\n",
    "    X[8] = data.get('area', 1440)\n",
    "    X[9] = data.get('new_property', 1)\n",
    "    \n",
    "    X[10] = X[7] * X[3] # width_open\n",
    "    X[11] = X[2] / X[8] # floor_by_area\n",
    "    X[12] = X[2] / X[7] # floor_by_width\n",
    "    \n",
    "    area_mean, area_std = 7.652456222450403, 0.8221394216377748\n",
    "    width_mean, width_std = 2.250238284146862 , 0.6616294390712966\n",
    "    width_open_mean, width_open_std = 2.8180932169586836 , 0.7954702674245552\n",
    "    floor_by_area_mean, floor_by_area_std = -1.9187939331933004 , 0.9169052779150308\n",
    "    floor_by_width_mean, floor_by_width_std =  -1.1204044099254058 , 0.6956414037035519\n",
    "    \n",
    "    X[8]  = (np.log(X[8] ) - area_mean) / area_std\n",
    "    X[7]  = (np.log(X[7] ) - width_mean) / width_std\n",
    "    X[10] = (np.log(X[10]) - width_open_mean) / width_open_std\n",
    "    X[11] = (np.log(X[11]) - floor_by_area_mean) / floor_by_area_std\n",
    "    X[12] = (np.log(X[12]) - floor_by_width_mean) / floor_by_width_std\n",
    "\n",
    "    ## Location\n",
    "\n",
    "    if 'location' in data :\n",
    "        for location in data['location'] :\n",
    "            loc_idx = np.where(X_train.columns == location)[0][0]\n",
    "            X[loc_idx] = 1\n",
    "    else :\n",
    "        loc_idx = np.where(X_train.columns == 'Rajarhat')[0][0]\n",
    "        X[loc_idx] = 1\n",
    "\n",
    "    print(np.sum(X[13:]))\n",
    "\n",
    "    X_reshape = X.reshape(1, -1)\n",
    "\n",
    "    return model.predict(X_reshape)[0]"
   ]
  },
  {
   "cell_type": "code",
   "execution_count": 28,
   "id": "32e33b68-848e-432c-b646-6e4f04a06a21",
   "metadata": {},
   "outputs": [
    {
     "name": "stdout",
     "output_type": "stream",
     "text": [
      "1.0\n",
      "\u001b[1m1/1\u001b[0m \u001b[32m━━━━━━━━━━━━━━━━━━━━\u001b[0m\u001b[37m\u001b[0m \u001b[1m0s\u001b[0m 16ms/step\n"
     ]
    },
    {
     "data": {
      "text/plain": [
       "array([10128191.], dtype=float32)"
      ]
     },
     "execution_count": 28,
     "metadata": {},
     "output_type": "execute_result"
    }
   ],
   "source": [
    "data = {\n",
    "    'area' : 10000,\n",
    "    'location' : ['Boral']\n",
    "}\n",
    "\n",
    "\n",
    "get_predictions(data) * data.get('area', 1440)"
   ]
  },
  {
   "cell_type": "code",
   "execution_count": 29,
   "id": "496778f7-d0ca-4f86-a733-379b9675089d",
   "metadata": {},
   "outputs": [],
   "source": [
    "import json\n",
    "\n",
    "columns = {\n",
    "    'data_columns' : [col for col in X_train.columns]\n",
    "}\n",
    "\n",
    "with open(\"columns.json\", 'w') as f:\n",
    "    f.write(json.dumps(columns))\n",
    "\n",
    "locations = {\n",
    "    'locations' : [col for col in X_train.columns[13:]]\n",
    "}\n",
    "\n",
    "with open(\"locations.json\", 'w') as f:\n",
    "    f.write(json.dumps(locations))"
   ]
  },
  {
   "cell_type": "code",
   "execution_count": null,
   "id": "60541978-fbcc-48af-b9f4-a9be72378faa",
   "metadata": {},
   "outputs": [],
   "source": []
  }
 ],
 "metadata": {
  "kernelspec": {
   "display_name": "Python 3 (ipykernel)",
   "language": "python",
   "name": "python3"
  },
  "language_info": {
   "codemirror_mode": {
    "name": "ipython",
    "version": 3
   },
   "file_extension": ".py",
   "mimetype": "text/x-python",
   "name": "python",
   "nbconvert_exporter": "python",
   "pygments_lexer": "ipython3",
   "version": "3.9.7"
  }
 },
 "nbformat": 4,
 "nbformat_minor": 5
}
